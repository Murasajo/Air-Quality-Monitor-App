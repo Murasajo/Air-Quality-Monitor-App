{
  "cells": [
    {
      "cell_type": "markdown",
      "metadata": {
        "id": "JBl8uydOs4ga"
      },
      "source": [
        "**AirQo_Air_Quality_Challenge**\n",
        "\n",
        "Zindi project"
      ]
    },
    {
      "cell_type": "markdown",
      "metadata": {
        "id": "rit8JwGlh4Xu"
      },
      "source": [
        "**Exploratory Data Analysis (EDA)**"
      ]
    },
    {
      "cell_type": "markdown",
      "metadata": {
        "id": "98h_Dc6_iIJT"
      },
      "source": [
        "# 1. Import Libraries"
      ]
    },
    {
      "cell_type": "code",
      "execution_count": 1,
      "metadata": {
        "id": "9k4Rr6bLti4q"
      },
      "outputs": [],
      "source": [
        "# Import of libraries\n",
        "import pandas as pd\n",
        "import numpy as np\n",
        "import matplotlib.pyplot as plt"
      ]
    },
    {
      "cell_type": "markdown",
      "metadata": {
        "id": "FlQrqYCwiSzh"
      },
      "source": [
        "# 2. Load Dataset"
      ]
    },
    {
      "cell_type": "code",
      "execution_count": null,
      "metadata": {
        "id": "Cx789dzpq1JE"
      },
      "outputs": [],
      "source": [
        "# This cell is for data we will use\n",
        "file1= \"/content/drive/MyDrive/ALX/Data_Science_Projects/AirQo_Air_Quality_Challenge/Train.csv\"\n",
        "file2= \"/content/drive/MyDrive/ALX/Data_Science_Projects/AirQo_Air_Quality_Challenge/Test.csv\"\n",
        "file3=\"/content/drive/MyDrive/ALX/Data_Science_Projects/AirQo_Air_Quality_Challenge/SampleSubmission.csv\""
      ]
    },
    {
      "cell_type": "code",
      "execution_count": 2,
      "metadata": {
        "id": "4IXfLOJ_ytEn"
      },
      "outputs": [],
      "source": [
        "# This cell is for data we will use\n",
        "file1= \"Train (1).csv\"\n",
        "file2= \"Test (2).csv\"\n"
      ]
    },
    {
      "cell_type": "markdown",
      "metadata": {
        "id": "R1se3qcAiahP"
      },
      "source": [
        "# 3. Basic Data Exploration"
      ]
    },
    {
      "cell_type": "code",
      "execution_count": 3,
      "metadata": {
        "colab": {
          "base_uri": "https://localhost:8080/",
          "height": 342
        },
        "id": "1S2vDJs0tvlf",
        "outputId": "a507af0e-f70f-4bda-8510-2a6d06a358be"
      },
      "outputs": [
        {
          "data": {
            "text/html": [
              "<div>\n",
              "<style scoped>\n",
              "    .dataframe tbody tr th:only-of-type {\n",
              "        vertical-align: middle;\n",
              "    }\n",
              "\n",
              "    .dataframe tbody tr th {\n",
              "        vertical-align: top;\n",
              "    }\n",
              "\n",
              "    .dataframe thead th {\n",
              "        text-align: right;\n",
              "    }\n",
              "</style>\n",
              "<table border=\"1\" class=\"dataframe\">\n",
              "  <thead>\n",
              "    <tr style=\"text-align: right;\">\n",
              "      <th></th>\n",
              "      <th>id</th>\n",
              "      <th>site_id</th>\n",
              "      <th>site_latitude</th>\n",
              "      <th>site_longitude</th>\n",
              "      <th>city</th>\n",
              "      <th>country</th>\n",
              "      <th>date</th>\n",
              "      <th>hour</th>\n",
              "      <th>sulphurdioxide_so2_column_number_density</th>\n",
              "      <th>sulphurdioxide_so2_column_number_density_amf</th>\n",
              "      <th>...</th>\n",
              "      <th>cloud_cloud_top_height</th>\n",
              "      <th>cloud_cloud_base_pressure</th>\n",
              "      <th>cloud_cloud_base_height</th>\n",
              "      <th>cloud_cloud_optical_depth</th>\n",
              "      <th>cloud_surface_albedo</th>\n",
              "      <th>cloud_sensor_azimuth_angle</th>\n",
              "      <th>cloud_sensor_zenith_angle</th>\n",
              "      <th>cloud_solar_azimuth_angle</th>\n",
              "      <th>cloud_solar_zenith_angle</th>\n",
              "      <th>pm2_5</th>\n",
              "    </tr>\n",
              "  </thead>\n",
              "  <tbody>\n",
              "    <tr>\n",
              "      <th>0</th>\n",
              "      <td>id_vjcx08sz91</td>\n",
              "      <td>6531a46a89b3300013914a36</td>\n",
              "      <td>6.53257</td>\n",
              "      <td>3.39936</td>\n",
              "      <td>Lagos</td>\n",
              "      <td>Nigeria</td>\n",
              "      <td>2023-10-25</td>\n",
              "      <td>13</td>\n",
              "      <td>NaN</td>\n",
              "      <td>NaN</td>\n",
              "      <td>...</td>\n",
              "      <td>NaN</td>\n",
              "      <td>NaN</td>\n",
              "      <td>NaN</td>\n",
              "      <td>NaN</td>\n",
              "      <td>NaN</td>\n",
              "      <td>NaN</td>\n",
              "      <td>NaN</td>\n",
              "      <td>NaN</td>\n",
              "      <td>NaN</td>\n",
              "      <td>12.015000</td>\n",
              "    </tr>\n",
              "    <tr>\n",
              "      <th>1</th>\n",
              "      <td>id_bkg215syli</td>\n",
              "      <td>6531a46a89b3300013914a36</td>\n",
              "      <td>6.53257</td>\n",
              "      <td>3.39936</td>\n",
              "      <td>Lagos</td>\n",
              "      <td>Nigeria</td>\n",
              "      <td>2023-11-02</td>\n",
              "      <td>12</td>\n",
              "      <td>NaN</td>\n",
              "      <td>NaN</td>\n",
              "      <td>...</td>\n",
              "      <td>NaN</td>\n",
              "      <td>NaN</td>\n",
              "      <td>NaN</td>\n",
              "      <td>NaN</td>\n",
              "      <td>NaN</td>\n",
              "      <td>NaN</td>\n",
              "      <td>NaN</td>\n",
              "      <td>NaN</td>\n",
              "      <td>NaN</td>\n",
              "      <td>42.267200</td>\n",
              "    </tr>\n",
              "    <tr>\n",
              "      <th>2</th>\n",
              "      <td>id_oui2pot3qd</td>\n",
              "      <td>6531a46a89b3300013914a36</td>\n",
              "      <td>6.53257</td>\n",
              "      <td>3.39936</td>\n",
              "      <td>Lagos</td>\n",
              "      <td>Nigeria</td>\n",
              "      <td>2023-11-03</td>\n",
              "      <td>13</td>\n",
              "      <td>NaN</td>\n",
              "      <td>NaN</td>\n",
              "      <td>...</td>\n",
              "      <td>6791.682888</td>\n",
              "      <td>51171.802486</td>\n",
              "      <td>5791.682829</td>\n",
              "      <td>11.816715</td>\n",
              "      <td>0.192757</td>\n",
              "      <td>-96.411890</td>\n",
              "      <td>61.045123</td>\n",
              "      <td>-121.307414</td>\n",
              "      <td>41.898269</td>\n",
              "      <td>39.450741</td>\n",
              "    </tr>\n",
              "    <tr>\n",
              "      <th>3</th>\n",
              "      <td>id_9aandqzy4n</td>\n",
              "      <td>6531a46a89b3300013914a36</td>\n",
              "      <td>6.53257</td>\n",
              "      <td>3.39936</td>\n",
              "      <td>Lagos</td>\n",
              "      <td>Nigeria</td>\n",
              "      <td>2023-11-08</td>\n",
              "      <td>14</td>\n",
              "      <td>NaN</td>\n",
              "      <td>NaN</td>\n",
              "      <td>...</td>\n",
              "      <td>NaN</td>\n",
              "      <td>NaN</td>\n",
              "      <td>NaN</td>\n",
              "      <td>NaN</td>\n",
              "      <td>NaN</td>\n",
              "      <td>NaN</td>\n",
              "      <td>NaN</td>\n",
              "      <td>NaN</td>\n",
              "      <td>NaN</td>\n",
              "      <td>10.537600</td>\n",
              "    </tr>\n",
              "    <tr>\n",
              "      <th>4</th>\n",
              "      <td>id_ali5x2m4iw</td>\n",
              "      <td>6531a46a89b3300013914a36</td>\n",
              "      <td>6.53257</td>\n",
              "      <td>3.39936</td>\n",
              "      <td>Lagos</td>\n",
              "      <td>Nigeria</td>\n",
              "      <td>2023-11-09</td>\n",
              "      <td>13</td>\n",
              "      <td>0.000267</td>\n",
              "      <td>0.774656</td>\n",
              "      <td>...</td>\n",
              "      <td>1451.050659</td>\n",
              "      <td>96215.906250</td>\n",
              "      <td>451.050598</td>\n",
              "      <td>10.521009</td>\n",
              "      <td>0.153114</td>\n",
              "      <td>-97.811241</td>\n",
              "      <td>49.513439</td>\n",
              "      <td>-126.064453</td>\n",
              "      <td>40.167355</td>\n",
              "      <td>19.431731</td>\n",
              "    </tr>\n",
              "  </tbody>\n",
              "</table>\n",
              "<p>5 rows × 80 columns</p>\n",
              "</div>"
            ],
            "text/plain": [
              "              id                   site_id  site_latitude  site_longitude  \\\n",
              "0  id_vjcx08sz91  6531a46a89b3300013914a36        6.53257         3.39936   \n",
              "1  id_bkg215syli  6531a46a89b3300013914a36        6.53257         3.39936   \n",
              "2  id_oui2pot3qd  6531a46a89b3300013914a36        6.53257         3.39936   \n",
              "3  id_9aandqzy4n  6531a46a89b3300013914a36        6.53257         3.39936   \n",
              "4  id_ali5x2m4iw  6531a46a89b3300013914a36        6.53257         3.39936   \n",
              "\n",
              "    city  country        date  hour  sulphurdioxide_so2_column_number_density  \\\n",
              "0  Lagos  Nigeria  2023-10-25    13                                       NaN   \n",
              "1  Lagos  Nigeria  2023-11-02    12                                       NaN   \n",
              "2  Lagos  Nigeria  2023-11-03    13                                       NaN   \n",
              "3  Lagos  Nigeria  2023-11-08    14                                       NaN   \n",
              "4  Lagos  Nigeria  2023-11-09    13                                  0.000267   \n",
              "\n",
              "   sulphurdioxide_so2_column_number_density_amf  ...  cloud_cloud_top_height  \\\n",
              "0                                           NaN  ...                     NaN   \n",
              "1                                           NaN  ...                     NaN   \n",
              "2                                           NaN  ...             6791.682888   \n",
              "3                                           NaN  ...                     NaN   \n",
              "4                                      0.774656  ...             1451.050659   \n",
              "\n",
              "   cloud_cloud_base_pressure  cloud_cloud_base_height  \\\n",
              "0                        NaN                      NaN   \n",
              "1                        NaN                      NaN   \n",
              "2               51171.802486              5791.682829   \n",
              "3                        NaN                      NaN   \n",
              "4               96215.906250               451.050598   \n",
              "\n",
              "   cloud_cloud_optical_depth  cloud_surface_albedo  \\\n",
              "0                        NaN                   NaN   \n",
              "1                        NaN                   NaN   \n",
              "2                  11.816715              0.192757   \n",
              "3                        NaN                   NaN   \n",
              "4                  10.521009              0.153114   \n",
              "\n",
              "   cloud_sensor_azimuth_angle  cloud_sensor_zenith_angle  \\\n",
              "0                         NaN                        NaN   \n",
              "1                         NaN                        NaN   \n",
              "2                  -96.411890                  61.045123   \n",
              "3                         NaN                        NaN   \n",
              "4                  -97.811241                  49.513439   \n",
              "\n",
              "   cloud_solar_azimuth_angle  cloud_solar_zenith_angle      pm2_5  \n",
              "0                        NaN                       NaN  12.015000  \n",
              "1                        NaN                       NaN  42.267200  \n",
              "2                -121.307414                 41.898269  39.450741  \n",
              "3                        NaN                       NaN  10.537600  \n",
              "4                -126.064453                 40.167355  19.431731  \n",
              "\n",
              "[5 rows x 80 columns]"
            ]
          },
          "execution_count": 3,
          "metadata": {},
          "output_type": "execute_result"
        }
      ],
      "source": [
        "# View the train data\n",
        "train = pd.read_csv(file1)\n",
        "train.head(5)"
      ]
    },
    {
      "cell_type": "code",
      "execution_count": 4,
      "metadata": {
        "colab": {
          "base_uri": "https://localhost:8080/"
        },
        "id": "Q1AWfxdagGyO",
        "outputId": "77844393-127a-4dc2-8a4b-33e40097d30a"
      },
      "outputs": [
        {
          "name": "stdout",
          "output_type": "stream",
          "text": [
            "<class 'pandas.core.frame.DataFrame'>\n",
            "RangeIndex: 8071 entries, 0 to 8070\n",
            "Data columns (total 80 columns):\n",
            " #   Column                                                    Non-Null Count  Dtype  \n",
            "---  ------                                                    --------------  -----  \n",
            " 0   id                                                        8071 non-null   object \n",
            " 1   site_id                                                   8071 non-null   object \n",
            " 2   site_latitude                                             8071 non-null   float64\n",
            " 3   site_longitude                                            8071 non-null   float64\n",
            " 4   city                                                      8071 non-null   object \n",
            " 5   country                                                   8071 non-null   object \n",
            " 6   date                                                      8071 non-null   object \n",
            " 7   hour                                                      8071 non-null   int64  \n",
            " 8   sulphurdioxide_so2_column_number_density                  3159 non-null   float64\n",
            " 9   sulphurdioxide_so2_column_number_density_amf              3159 non-null   float64\n",
            " 10  sulphurdioxide_so2_slant_column_number_density            3159 non-null   float64\n",
            " 11  sulphurdioxide_cloud_fraction                             3159 non-null   float64\n",
            " 12  sulphurdioxide_sensor_azimuth_angle                       3159 non-null   float64\n",
            " 13  sulphurdioxide_sensor_zenith_angle                        3159 non-null   float64\n",
            " 14  sulphurdioxide_solar_azimuth_angle                        3159 non-null   float64\n",
            " 15  sulphurdioxide_solar_zenith_angle                         3159 non-null   float64\n",
            " 16  sulphurdioxide_so2_column_number_density_15km             3159 non-null   float64\n",
            " 17  month                                                     8071 non-null   float64\n",
            " 18  carbonmonoxide_co_column_number_density                   4441 non-null   float64\n",
            " 19  carbonmonoxide_h2o_column_number_density                  4441 non-null   float64\n",
            " 20  carbonmonoxide_cloud_height                               4441 non-null   float64\n",
            " 21  carbonmonoxide_sensor_altitude                            4441 non-null   float64\n",
            " 22  carbonmonoxide_sensor_azimuth_angle                       4441 non-null   float64\n",
            " 23  carbonmonoxide_sensor_zenith_angle                        4441 non-null   float64\n",
            " 24  carbonmonoxide_solar_azimuth_angle                        4441 non-null   float64\n",
            " 25  carbonmonoxide_solar_zenith_angle                         4441 non-null   float64\n",
            " 26  nitrogendioxide_no2_column_number_density                 3104 non-null   float64\n",
            " 27  nitrogendioxide_tropospheric_no2_column_number_density    3104 non-null   float64\n",
            " 28  nitrogendioxide_stratospheric_no2_column_number_density   3104 non-null   float64\n",
            " 29  nitrogendioxide_no2_slant_column_number_density           3104 non-null   float64\n",
            " 30  nitrogendioxide_tropopause_pressure                       3104 non-null   float64\n",
            " 31  nitrogendioxide_absorbing_aerosol_index                   3104 non-null   float64\n",
            " 32  nitrogendioxide_cloud_fraction                            3104 non-null   float64\n",
            " 33  nitrogendioxide_sensor_altitude                           3104 non-null   float64\n",
            " 34  nitrogendioxide_sensor_azimuth_angle                      3104 non-null   float64\n",
            " 35  nitrogendioxide_sensor_zenith_angle                       3104 non-null   float64\n",
            " 36  nitrogendioxide_solar_azimuth_angle                       3104 non-null   float64\n",
            " 37  nitrogendioxide_solar_zenith_angle                        3104 non-null   float64\n",
            " 38  formaldehyde_tropospheric_hcho_column_number_density      4156 non-null   float64\n",
            " 39  formaldehyde_tropospheric_hcho_column_number_density_amf  4156 non-null   float64\n",
            " 40  formaldehyde_hcho_slant_column_number_density             4156 non-null   float64\n",
            " 41  formaldehyde_cloud_fraction                               4156 non-null   float64\n",
            " 42  formaldehyde_solar_zenith_angle                           4156 non-null   float64\n",
            " 43  formaldehyde_solar_azimuth_angle                          4156 non-null   float64\n",
            " 44  formaldehyde_sensor_zenith_angle                          4156 non-null   float64\n",
            " 45  formaldehyde_sensor_azimuth_angle                         4156 non-null   float64\n",
            " 46  uvaerosolindex_absorbing_aerosol_index                    8066 non-null   float64\n",
            " 47  uvaerosolindex_sensor_altitude                            8066 non-null   float64\n",
            " 48  uvaerosolindex_sensor_azimuth_angle                       8066 non-null   float64\n",
            " 49  uvaerosolindex_sensor_zenith_angle                        8066 non-null   float64\n",
            " 50  uvaerosolindex_solar_azimuth_angle                        8066 non-null   float64\n",
            " 51  uvaerosolindex_solar_zenith_angle                         8066 non-null   float64\n",
            " 52  ozone_o3_column_number_density                            7959 non-null   float64\n",
            " 53  ozone_o3_column_number_density_amf                        7959 non-null   float64\n",
            " 54  ozone_o3_slant_column_number_density                      7959 non-null   float64\n",
            " 55  ozone_o3_effective_temperature                            7959 non-null   float64\n",
            " 56  ozone_cloud_fraction                                      7959 non-null   float64\n",
            " 57  ozone_sensor_azimuth_angle                                7959 non-null   float64\n",
            " 58  ozone_sensor_zenith_angle                                 7959 non-null   float64\n",
            " 59  ozone_solar_azimuth_angle                                 7959 non-null   float64\n",
            " 60  ozone_solar_zenith_angle                                  7959 non-null   float64\n",
            " 61  uvaerosollayerheight_aerosol_height                       427 non-null    float64\n",
            " 62  uvaerosollayerheight_aerosol_pressure                     427 non-null    float64\n",
            " 63  uvaerosollayerheight_aerosol_optical_depth                427 non-null    float64\n",
            " 64  uvaerosollayerheight_sensor_zenith_angle                  427 non-null    float64\n",
            " 65  uvaerosollayerheight_sensor_azimuth_angle                 427 non-null    float64\n",
            " 66  uvaerosollayerheight_solar_azimuth_angle                  427 non-null    float64\n",
            " 67  uvaerosollayerheight_solar_zenith_angle                   427 non-null    float64\n",
            " 68  cloud_cloud_fraction                                      4994 non-null   float64\n",
            " 69  cloud_cloud_top_pressure                                  4994 non-null   float64\n",
            " 70  cloud_cloud_top_height                                    4994 non-null   float64\n",
            " 71  cloud_cloud_base_pressure                                 4994 non-null   float64\n",
            " 72  cloud_cloud_base_height                                   4994 non-null   float64\n",
            " 73  cloud_cloud_optical_depth                                 4994 non-null   float64\n",
            " 74  cloud_surface_albedo                                      4994 non-null   float64\n",
            " 75  cloud_sensor_azimuth_angle                                4994 non-null   float64\n",
            " 76  cloud_sensor_zenith_angle                                 4994 non-null   float64\n",
            " 77  cloud_solar_azimuth_angle                                 4994 non-null   float64\n",
            " 78  cloud_solar_zenith_angle                                  4994 non-null   float64\n",
            " 79  pm2_5                                                     8071 non-null   float64\n",
            "dtypes: float64(74), int64(1), object(5)\n",
            "memory usage: 4.9+ MB\n"
          ]
        }
      ],
      "source": [
        "# Display structure of the dataset\n",
        "train.info()"
      ]
    },
    {
      "cell_type": "code",
      "execution_count": 5,
      "metadata": {
        "colab": {
          "base_uri": "https://localhost:8080/",
          "height": 350
        },
        "id": "UvGORbgQgOcv",
        "outputId": "90b88345-89f7-4656-9587-613cedba5790"
      },
      "outputs": [
        {
          "data": {
            "text/html": [
              "<div>\n",
              "<style scoped>\n",
              "    .dataframe tbody tr th:only-of-type {\n",
              "        vertical-align: middle;\n",
              "    }\n",
              "\n",
              "    .dataframe tbody tr th {\n",
              "        vertical-align: top;\n",
              "    }\n",
              "\n",
              "    .dataframe thead th {\n",
              "        text-align: right;\n",
              "    }\n",
              "</style>\n",
              "<table border=\"1\" class=\"dataframe\">\n",
              "  <thead>\n",
              "    <tr style=\"text-align: right;\">\n",
              "      <th></th>\n",
              "      <th>site_latitude</th>\n",
              "      <th>site_longitude</th>\n",
              "      <th>hour</th>\n",
              "      <th>sulphurdioxide_so2_column_number_density</th>\n",
              "      <th>sulphurdioxide_so2_column_number_density_amf</th>\n",
              "      <th>sulphurdioxide_so2_slant_column_number_density</th>\n",
              "      <th>sulphurdioxide_cloud_fraction</th>\n",
              "      <th>sulphurdioxide_sensor_azimuth_angle</th>\n",
              "      <th>sulphurdioxide_sensor_zenith_angle</th>\n",
              "      <th>sulphurdioxide_solar_azimuth_angle</th>\n",
              "      <th>...</th>\n",
              "      <th>cloud_cloud_top_height</th>\n",
              "      <th>cloud_cloud_base_pressure</th>\n",
              "      <th>cloud_cloud_base_height</th>\n",
              "      <th>cloud_cloud_optical_depth</th>\n",
              "      <th>cloud_surface_albedo</th>\n",
              "      <th>cloud_sensor_azimuth_angle</th>\n",
              "      <th>cloud_sensor_zenith_angle</th>\n",
              "      <th>cloud_solar_azimuth_angle</th>\n",
              "      <th>cloud_solar_zenith_angle</th>\n",
              "      <th>pm2_5</th>\n",
              "    </tr>\n",
              "  </thead>\n",
              "  <tbody>\n",
              "    <tr>\n",
              "      <th>count</th>\n",
              "      <td>8071.000000</td>\n",
              "      <td>8071.000000</td>\n",
              "      <td>8071.000000</td>\n",
              "      <td>3159.000000</td>\n",
              "      <td>3159.000000</td>\n",
              "      <td>3159.000000</td>\n",
              "      <td>3159.000000</td>\n",
              "      <td>3159.000000</td>\n",
              "      <td>3159.000000</td>\n",
              "      <td>3159.000000</td>\n",
              "      <td>...</td>\n",
              "      <td>4994.000000</td>\n",
              "      <td>4994.000000</td>\n",
              "      <td>4994.000000</td>\n",
              "      <td>4994.000000</td>\n",
              "      <td>4994.000000</td>\n",
              "      <td>4994.000000</td>\n",
              "      <td>4994.000000</td>\n",
              "      <td>4994.000000</td>\n",
              "      <td>4994.000000</td>\n",
              "      <td>8071.000000</td>\n",
              "    </tr>\n",
              "    <tr>\n",
              "      <th>mean</th>\n",
              "      <td>0.635678</td>\n",
              "      <td>30.246982</td>\n",
              "      <td>10.877463</td>\n",
              "      <td>0.000024</td>\n",
              "      <td>0.687295</td>\n",
              "      <td>0.000013</td>\n",
              "      <td>0.126581</td>\n",
              "      <td>2.120939</td>\n",
              "      <td>38.671939</td>\n",
              "      <td>-92.912582</td>\n",
              "      <td>...</td>\n",
              "      <td>6089.449805</td>\n",
              "      <td>58478.947647</td>\n",
              "      <td>5105.978072</td>\n",
              "      <td>16.885186</td>\n",
              "      <td>0.255501</td>\n",
              "      <td>-18.952179</td>\n",
              "      <td>45.881380</td>\n",
              "      <td>-84.811978</td>\n",
              "      <td>28.708028</td>\n",
              "      <td>24.639296</td>\n",
              "    </tr>\n",
              "    <tr>\n",
              "      <th>std</th>\n",
              "      <td>2.154605</td>\n",
              "      <td>9.393151</td>\n",
              "      <td>0.815875</td>\n",
              "      <td>0.000354</td>\n",
              "      <td>0.142544</td>\n",
              "      <td>0.000220</td>\n",
              "      <td>0.094129</td>\n",
              "      <td>85.450554</td>\n",
              "      <td>18.964322</td>\n",
              "      <td>43.240479</td>\n",
              "      <td>...</td>\n",
              "      <td>2991.879500</td>\n",
              "      <td>18974.281900</td>\n",
              "      <td>2971.949265</td>\n",
              "      <td>27.547282</td>\n",
              "      <td>0.046204</td>\n",
              "      <td>85.873938</td>\n",
              "      <td>14.721454</td>\n",
              "      <td>40.627170</td>\n",
              "      <td>7.038309</td>\n",
              "      <td>24.878920</td>\n",
              "    </tr>\n",
              "    <tr>\n",
              "      <th>min</th>\n",
              "      <td>-3.459970</td>\n",
              "      <td>3.201510</td>\n",
              "      <td>10.000000</td>\n",
              "      <td>-0.000980</td>\n",
              "      <td>0.299364</td>\n",
              "      <td>-0.000696</td>\n",
              "      <td>0.000000</td>\n",
              "      <td>-107.710861</td>\n",
              "      <td>0.177093</td>\n",
              "      <td>-165.131509</td>\n",
              "      <td>...</td>\n",
              "      <td>521.378113</td>\n",
              "      <td>10752.090499</td>\n",
              "      <td>9.741494</td>\n",
              "      <td>1.458444</td>\n",
              "      <td>0.090547</td>\n",
              "      <td>-102.706078</td>\n",
              "      <td>2.996863</td>\n",
              "      <td>-159.058782</td>\n",
              "      <td>10.314990</td>\n",
              "      <td>1.200000</td>\n",
              "    </tr>\n",
              "    <tr>\n",
              "      <th>25%</th>\n",
              "      <td>0.288630</td>\n",
              "      <td>32.568643</td>\n",
              "      <td>10.000000</td>\n",
              "      <td>-0.000196</td>\n",
              "      <td>0.589849</td>\n",
              "      <td>-0.000137</td>\n",
              "      <td>0.038062</td>\n",
              "      <td>-98.911720</td>\n",
              "      <td>22.811537</td>\n",
              "      <td>-134.823883</td>\n",
              "      <td>...</td>\n",
              "      <td>3687.102253</td>\n",
              "      <td>43231.418685</td>\n",
              "      <td>2701.118575</td>\n",
              "      <td>5.612198</td>\n",
              "      <td>0.228117</td>\n",
              "      <td>-98.865659</td>\n",
              "      <td>37.901279</td>\n",
              "      <td>-125.371559</td>\n",
              "      <td>24.102775</td>\n",
              "      <td>13.270600</td>\n",
              "    </tr>\n",
              "    <tr>\n",
              "      <th>50%</th>\n",
              "      <td>0.332610</td>\n",
              "      <td>32.600480</td>\n",
              "      <td>11.000000</td>\n",
              "      <td>0.000012</td>\n",
              "      <td>0.669632</td>\n",
              "      <td>0.000007</td>\n",
              "      <td>0.123876</td>\n",
              "      <td>71.653160</td>\n",
              "      <td>42.564364</td>\n",
              "      <td>-95.848477</td>\n",
              "      <td>...</td>\n",
              "      <td>5389.787844</td>\n",
              "      <td>60432.792969</td>\n",
              "      <td>4389.787844</td>\n",
              "      <td>8.752905</td>\n",
              "      <td>0.257323</td>\n",
              "      <td>-97.477511</td>\n",
              "      <td>49.187592</td>\n",
              "      <td>-74.597511</td>\n",
              "      <td>29.002745</td>\n",
              "      <td>18.375400</td>\n",
              "    </tr>\n",
              "    <tr>\n",
              "      <th>75%</th>\n",
              "      <td>0.374653</td>\n",
              "      <td>32.641110</td>\n",
              "      <td>11.000000</td>\n",
              "      <td>0.000221</td>\n",
              "      <td>0.766817</td>\n",
              "      <td>0.000149</td>\n",
              "      <td>0.209070</td>\n",
              "      <td>74.110476</td>\n",
              "      <td>54.238408</td>\n",
              "      <td>-49.662067</td>\n",
              "      <td>...</td>\n",
              "      <td>8047.738159</td>\n",
              "      <td>74276.492371</td>\n",
              "      <td>7047.738159</td>\n",
              "      <td>14.794590</td>\n",
              "      <td>0.285948</td>\n",
              "      <td>72.814735</td>\n",
              "      <td>57.156175</td>\n",
              "      <td>-49.902340</td>\n",
              "      <td>33.929767</td>\n",
              "      <td>28.838400</td>\n",
              "    </tr>\n",
              "    <tr>\n",
              "      <th>max</th>\n",
              "      <td>6.595400</td>\n",
              "      <td>36.914272</td>\n",
              "      <td>14.000000</td>\n",
              "      <td>0.002024</td>\n",
              "      <td>1.607052</td>\n",
              "      <td>0.001101</td>\n",
              "      <td>0.299850</td>\n",
              "      <td>77.319656</td>\n",
              "      <td>66.234924</td>\n",
              "      <td>-22.250822</td>\n",
              "      <td>...</td>\n",
              "      <td>17287.677734</td>\n",
              "      <td>100909.219778</td>\n",
              "      <td>16287.677734</td>\n",
              "      <td>250.000002</td>\n",
              "      <td>0.417945</td>\n",
              "      <td>77.319656</td>\n",
              "      <td>66.238778</td>\n",
              "      <td>-22.251009</td>\n",
              "      <td>45.496395</td>\n",
              "      <td>456.193333</td>\n",
              "    </tr>\n",
              "  </tbody>\n",
              "</table>\n",
              "<p>8 rows × 75 columns</p>\n",
              "</div>"
            ],
            "text/plain": [
              "       site_latitude  site_longitude         hour  \\\n",
              "count    8071.000000     8071.000000  8071.000000   \n",
              "mean        0.635678       30.246982    10.877463   \n",
              "std         2.154605        9.393151     0.815875   \n",
              "min        -3.459970        3.201510    10.000000   \n",
              "25%         0.288630       32.568643    10.000000   \n",
              "50%         0.332610       32.600480    11.000000   \n",
              "75%         0.374653       32.641110    11.000000   \n",
              "max         6.595400       36.914272    14.000000   \n",
              "\n",
              "       sulphurdioxide_so2_column_number_density  \\\n",
              "count                               3159.000000   \n",
              "mean                                   0.000024   \n",
              "std                                    0.000354   \n",
              "min                                   -0.000980   \n",
              "25%                                   -0.000196   \n",
              "50%                                    0.000012   \n",
              "75%                                    0.000221   \n",
              "max                                    0.002024   \n",
              "\n",
              "       sulphurdioxide_so2_column_number_density_amf  \\\n",
              "count                                   3159.000000   \n",
              "mean                                       0.687295   \n",
              "std                                        0.142544   \n",
              "min                                        0.299364   \n",
              "25%                                        0.589849   \n",
              "50%                                        0.669632   \n",
              "75%                                        0.766817   \n",
              "max                                        1.607052   \n",
              "\n",
              "       sulphurdioxide_so2_slant_column_number_density  \\\n",
              "count                                     3159.000000   \n",
              "mean                                         0.000013   \n",
              "std                                          0.000220   \n",
              "min                                         -0.000696   \n",
              "25%                                         -0.000137   \n",
              "50%                                          0.000007   \n",
              "75%                                          0.000149   \n",
              "max                                          0.001101   \n",
              "\n",
              "       sulphurdioxide_cloud_fraction  sulphurdioxide_sensor_azimuth_angle  \\\n",
              "count                    3159.000000                          3159.000000   \n",
              "mean                        0.126581                             2.120939   \n",
              "std                         0.094129                            85.450554   \n",
              "min                         0.000000                          -107.710861   \n",
              "25%                         0.038062                           -98.911720   \n",
              "50%                         0.123876                            71.653160   \n",
              "75%                         0.209070                            74.110476   \n",
              "max                         0.299850                            77.319656   \n",
              "\n",
              "       sulphurdioxide_sensor_zenith_angle  sulphurdioxide_solar_azimuth_angle  \\\n",
              "count                         3159.000000                         3159.000000   \n",
              "mean                            38.671939                          -92.912582   \n",
              "std                             18.964322                           43.240479   \n",
              "min                              0.177093                         -165.131509   \n",
              "25%                             22.811537                         -134.823883   \n",
              "50%                             42.564364                          -95.848477   \n",
              "75%                             54.238408                          -49.662067   \n",
              "max                             66.234924                          -22.250822   \n",
              "\n",
              "       ...  cloud_cloud_top_height  cloud_cloud_base_pressure  \\\n",
              "count  ...             4994.000000                4994.000000   \n",
              "mean   ...             6089.449805               58478.947647   \n",
              "std    ...             2991.879500               18974.281900   \n",
              "min    ...              521.378113               10752.090499   \n",
              "25%    ...             3687.102253               43231.418685   \n",
              "50%    ...             5389.787844               60432.792969   \n",
              "75%    ...             8047.738159               74276.492371   \n",
              "max    ...            17287.677734              100909.219778   \n",
              "\n",
              "       cloud_cloud_base_height  cloud_cloud_optical_depth  \\\n",
              "count              4994.000000                4994.000000   \n",
              "mean               5105.978072                  16.885186   \n",
              "std                2971.949265                  27.547282   \n",
              "min                   9.741494                   1.458444   \n",
              "25%                2701.118575                   5.612198   \n",
              "50%                4389.787844                   8.752905   \n",
              "75%                7047.738159                  14.794590   \n",
              "max               16287.677734                 250.000002   \n",
              "\n",
              "       cloud_surface_albedo  cloud_sensor_azimuth_angle  \\\n",
              "count           4994.000000                 4994.000000   \n",
              "mean               0.255501                  -18.952179   \n",
              "std                0.046204                   85.873938   \n",
              "min                0.090547                 -102.706078   \n",
              "25%                0.228117                  -98.865659   \n",
              "50%                0.257323                  -97.477511   \n",
              "75%                0.285948                   72.814735   \n",
              "max                0.417945                   77.319656   \n",
              "\n",
              "       cloud_sensor_zenith_angle  cloud_solar_azimuth_angle  \\\n",
              "count                4994.000000                4994.000000   \n",
              "mean                   45.881380                 -84.811978   \n",
              "std                    14.721454                  40.627170   \n",
              "min                     2.996863                -159.058782   \n",
              "25%                    37.901279                -125.371559   \n",
              "50%                    49.187592                 -74.597511   \n",
              "75%                    57.156175                 -49.902340   \n",
              "max                    66.238778                 -22.251009   \n",
              "\n",
              "       cloud_solar_zenith_angle        pm2_5  \n",
              "count               4994.000000  8071.000000  \n",
              "mean                  28.708028    24.639296  \n",
              "std                    7.038309    24.878920  \n",
              "min                   10.314990     1.200000  \n",
              "25%                   24.102775    13.270600  \n",
              "50%                   29.002745    18.375400  \n",
              "75%                   33.929767    28.838400  \n",
              "max                   45.496395   456.193333  \n",
              "\n",
              "[8 rows x 75 columns]"
            ]
          },
          "execution_count": 5,
          "metadata": {},
          "output_type": "execute_result"
        }
      ],
      "source": [
        "# Summary statistics\n",
        "train.describe()"
      ]
    },
    {
      "cell_type": "code",
      "execution_count": 6,
      "metadata": {
        "colab": {
          "base_uri": "https://localhost:8080/",
          "height": 342
        },
        "id": "UtR1g1Mot9PY",
        "outputId": "f150fe67-1b61-42ab-f71f-4144affebbb3"
      },
      "outputs": [
        {
          "data": {
            "text/html": [
              "<div>\n",
              "<style scoped>\n",
              "    .dataframe tbody tr th:only-of-type {\n",
              "        vertical-align: middle;\n",
              "    }\n",
              "\n",
              "    .dataframe tbody tr th {\n",
              "        vertical-align: top;\n",
              "    }\n",
              "\n",
              "    .dataframe thead th {\n",
              "        text-align: right;\n",
              "    }\n",
              "</style>\n",
              "<table border=\"1\" class=\"dataframe\">\n",
              "  <thead>\n",
              "    <tr style=\"text-align: right;\">\n",
              "      <th></th>\n",
              "      <th>id</th>\n",
              "      <th>site_id</th>\n",
              "      <th>site_latitude</th>\n",
              "      <th>site_longitude</th>\n",
              "      <th>city</th>\n",
              "      <th>country</th>\n",
              "      <th>date</th>\n",
              "      <th>hour</th>\n",
              "      <th>sulphurdioxide_so2_column_number_density</th>\n",
              "      <th>sulphurdioxide_so2_column_number_density_amf</th>\n",
              "      <th>...</th>\n",
              "      <th>cloud_cloud_top_pressure</th>\n",
              "      <th>cloud_cloud_top_height</th>\n",
              "      <th>cloud_cloud_base_pressure</th>\n",
              "      <th>cloud_cloud_base_height</th>\n",
              "      <th>cloud_cloud_optical_depth</th>\n",
              "      <th>cloud_surface_albedo</th>\n",
              "      <th>cloud_sensor_azimuth_angle</th>\n",
              "      <th>cloud_sensor_zenith_angle</th>\n",
              "      <th>cloud_solar_azimuth_angle</th>\n",
              "      <th>cloud_solar_zenith_angle</th>\n",
              "    </tr>\n",
              "  </thead>\n",
              "  <tbody>\n",
              "    <tr>\n",
              "      <th>0</th>\n",
              "      <td>id_ihxgrbq8bw</td>\n",
              "      <td>64f9d17ab9e98d001ac9e882</td>\n",
              "      <td>5.61252</td>\n",
              "      <td>-0.22955</td>\n",
              "      <td>Accra</td>\n",
              "      <td>Ghana</td>\n",
              "      <td>2023-09-06</td>\n",
              "      <td>13</td>\n",
              "      <td>-0.000072</td>\n",
              "      <td>0.762543</td>\n",
              "      <td>...</td>\n",
              "      <td>74217.403083</td>\n",
              "      <td>2710.544562</td>\n",
              "      <td>83569.504246</td>\n",
              "      <td>1710.544483</td>\n",
              "      <td>3.063105</td>\n",
              "      <td>0.263193</td>\n",
              "      <td>-100.317077</td>\n",
              "      <td>27.059646</td>\n",
              "      <td>-86.885670</td>\n",
              "      <td>25.530511</td>\n",
              "    </tr>\n",
              "    <tr>\n",
              "      <th>1</th>\n",
              "      <td>id_dg6s4fhiwe</td>\n",
              "      <td>64f9d17ab9e98d001ac9e882</td>\n",
              "      <td>5.61252</td>\n",
              "      <td>-0.22955</td>\n",
              "      <td>Accra</td>\n",
              "      <td>Ghana</td>\n",
              "      <td>2023-09-07</td>\n",
              "      <td>13</td>\n",
              "      <td>NaN</td>\n",
              "      <td>NaN</td>\n",
              "      <td>...</td>\n",
              "      <td>NaN</td>\n",
              "      <td>NaN</td>\n",
              "      <td>NaN</td>\n",
              "      <td>NaN</td>\n",
              "      <td>NaN</td>\n",
              "      <td>NaN</td>\n",
              "      <td>NaN</td>\n",
              "      <td>NaN</td>\n",
              "      <td>NaN</td>\n",
              "      <td>NaN</td>\n",
              "    </tr>\n",
              "    <tr>\n",
              "      <th>2</th>\n",
              "      <td>id_f7hwwtmuzp</td>\n",
              "      <td>64f9d17ab9e98d001ac9e882</td>\n",
              "      <td>5.61252</td>\n",
              "      <td>-0.22955</td>\n",
              "      <td>Accra</td>\n",
              "      <td>Ghana</td>\n",
              "      <td>2023-09-08</td>\n",
              "      <td>13</td>\n",
              "      <td>-0.000051</td>\n",
              "      <td>1.004265</td>\n",
              "      <td>...</td>\n",
              "      <td>NaN</td>\n",
              "      <td>NaN</td>\n",
              "      <td>NaN</td>\n",
              "      <td>NaN</td>\n",
              "      <td>NaN</td>\n",
              "      <td>NaN</td>\n",
              "      <td>NaN</td>\n",
              "      <td>NaN</td>\n",
              "      <td>NaN</td>\n",
              "      <td>NaN</td>\n",
              "    </tr>\n",
              "    <tr>\n",
              "      <th>3</th>\n",
              "      <td>id_ioese5awdg</td>\n",
              "      <td>64f9d17ab9e98d001ac9e882</td>\n",
              "      <td>5.61252</td>\n",
              "      <td>-0.22955</td>\n",
              "      <td>Accra</td>\n",
              "      <td>Ghana</td>\n",
              "      <td>2023-09-09</td>\n",
              "      <td>12</td>\n",
              "      <td>NaN</td>\n",
              "      <td>NaN</td>\n",
              "      <td>...</td>\n",
              "      <td>46052.449219</td>\n",
              "      <td>6585.034668</td>\n",
              "      <td>52160.980469</td>\n",
              "      <td>5585.034668</td>\n",
              "      <td>29.145922</td>\n",
              "      <td>0.314945</td>\n",
              "      <td>70.680077</td>\n",
              "      <td>61.874222</td>\n",
              "      <td>-90.875603</td>\n",
              "      <td>11.865201</td>\n",
              "    </tr>\n",
              "    <tr>\n",
              "      <th>4</th>\n",
              "      <td>id_hdw320zpls</td>\n",
              "      <td>64f9d17ab9e98d001ac9e882</td>\n",
              "      <td>5.61252</td>\n",
              "      <td>-0.22955</td>\n",
              "      <td>Accra</td>\n",
              "      <td>Ghana</td>\n",
              "      <td>2023-09-20</td>\n",
              "      <td>12</td>\n",
              "      <td>-0.000634</td>\n",
              "      <td>0.632173</td>\n",
              "      <td>...</td>\n",
              "      <td>NaN</td>\n",
              "      <td>NaN</td>\n",
              "      <td>NaN</td>\n",
              "      <td>NaN</td>\n",
              "      <td>NaN</td>\n",
              "      <td>NaN</td>\n",
              "      <td>NaN</td>\n",
              "      <td>NaN</td>\n",
              "      <td>NaN</td>\n",
              "      <td>NaN</td>\n",
              "    </tr>\n",
              "  </tbody>\n",
              "</table>\n",
              "<p>5 rows × 79 columns</p>\n",
              "</div>"
            ],
            "text/plain": [
              "              id                   site_id  site_latitude  site_longitude  \\\n",
              "0  id_ihxgrbq8bw  64f9d17ab9e98d001ac9e882        5.61252        -0.22955   \n",
              "1  id_dg6s4fhiwe  64f9d17ab9e98d001ac9e882        5.61252        -0.22955   \n",
              "2  id_f7hwwtmuzp  64f9d17ab9e98d001ac9e882        5.61252        -0.22955   \n",
              "3  id_ioese5awdg  64f9d17ab9e98d001ac9e882        5.61252        -0.22955   \n",
              "4  id_hdw320zpls  64f9d17ab9e98d001ac9e882        5.61252        -0.22955   \n",
              "\n",
              "    city country        date  hour  sulphurdioxide_so2_column_number_density  \\\n",
              "0  Accra   Ghana  2023-09-06    13                                 -0.000072   \n",
              "1  Accra   Ghana  2023-09-07    13                                       NaN   \n",
              "2  Accra   Ghana  2023-09-08    13                                 -0.000051   \n",
              "3  Accra   Ghana  2023-09-09    12                                       NaN   \n",
              "4  Accra   Ghana  2023-09-20    12                                 -0.000634   \n",
              "\n",
              "   sulphurdioxide_so2_column_number_density_amf  ...  \\\n",
              "0                                      0.762543  ...   \n",
              "1                                           NaN  ...   \n",
              "2                                      1.004265  ...   \n",
              "3                                           NaN  ...   \n",
              "4                                      0.632173  ...   \n",
              "\n",
              "   cloud_cloud_top_pressure  cloud_cloud_top_height  \\\n",
              "0              74217.403083             2710.544562   \n",
              "1                       NaN                     NaN   \n",
              "2                       NaN                     NaN   \n",
              "3              46052.449219             6585.034668   \n",
              "4                       NaN                     NaN   \n",
              "\n",
              "   cloud_cloud_base_pressure  cloud_cloud_base_height  \\\n",
              "0               83569.504246              1710.544483   \n",
              "1                        NaN                      NaN   \n",
              "2                        NaN                      NaN   \n",
              "3               52160.980469              5585.034668   \n",
              "4                        NaN                      NaN   \n",
              "\n",
              "   cloud_cloud_optical_depth  cloud_surface_albedo  \\\n",
              "0                   3.063105              0.263193   \n",
              "1                        NaN                   NaN   \n",
              "2                        NaN                   NaN   \n",
              "3                  29.145922              0.314945   \n",
              "4                        NaN                   NaN   \n",
              "\n",
              "   cloud_sensor_azimuth_angle  cloud_sensor_zenith_angle  \\\n",
              "0                 -100.317077                  27.059646   \n",
              "1                         NaN                        NaN   \n",
              "2                         NaN                        NaN   \n",
              "3                   70.680077                  61.874222   \n",
              "4                         NaN                        NaN   \n",
              "\n",
              "   cloud_solar_azimuth_angle  cloud_solar_zenith_angle  \n",
              "0                 -86.885670                 25.530511  \n",
              "1                        NaN                       NaN  \n",
              "2                        NaN                       NaN  \n",
              "3                 -90.875603                 11.865201  \n",
              "4                        NaN                       NaN  \n",
              "\n",
              "[5 rows x 79 columns]"
            ]
          },
          "execution_count": 6,
          "metadata": {},
          "output_type": "execute_result"
        }
      ],
      "source": [
        "# View test data\n",
        "test = pd.read_csv(file2)\n",
        "test.head(5)"
      ]
    },
    {
      "cell_type": "code",
      "execution_count": 7,
      "metadata": {
        "colab": {
          "base_uri": "https://localhost:8080/"
        },
        "id": "QQ_RBMuEfTLT",
        "outputId": "d7bd74f2-87ab-442f-bbf9-900725b4ba50"
      },
      "outputs": [
        {
          "name": "stdout",
          "output_type": "stream",
          "text": [
            "<class 'pandas.core.frame.DataFrame'>\n",
            "RangeIndex: 2783 entries, 0 to 2782\n",
            "Data columns (total 79 columns):\n",
            " #   Column                                                    Non-Null Count  Dtype  \n",
            "---  ------                                                    --------------  -----  \n",
            " 0   id                                                        2783 non-null   object \n",
            " 1   site_id                                                   2783 non-null   object \n",
            " 2   site_latitude                                             2783 non-null   float64\n",
            " 3   site_longitude                                            2783 non-null   float64\n",
            " 4   city                                                      2783 non-null   object \n",
            " 5   country                                                   2783 non-null   object \n",
            " 6   date                                                      2783 non-null   object \n",
            " 7   hour                                                      2783 non-null   int64  \n",
            " 8   sulphurdioxide_so2_column_number_density                  1709 non-null   float64\n",
            " 9   sulphurdioxide_so2_column_number_density_amf              1709 non-null   float64\n",
            " 10  sulphurdioxide_so2_slant_column_number_density            1709 non-null   float64\n",
            " 11  sulphurdioxide_cloud_fraction                             1709 non-null   float64\n",
            " 12  sulphurdioxide_sensor_azimuth_angle                       1709 non-null   float64\n",
            " 13  sulphurdioxide_sensor_zenith_angle                        1709 non-null   float64\n",
            " 14  sulphurdioxide_solar_azimuth_angle                        1709 non-null   float64\n",
            " 15  sulphurdioxide_solar_zenith_angle                         1709 non-null   float64\n",
            " 16  sulphurdioxide_so2_column_number_density_15km             1709 non-null   float64\n",
            " 17  month                                                     2783 non-null   float64\n",
            " 18  carbonmonoxide_co_column_number_density                   1752 non-null   float64\n",
            " 19  carbonmonoxide_h2o_column_number_density                  1752 non-null   float64\n",
            " 20  carbonmonoxide_cloud_height                               1752 non-null   float64\n",
            " 21  carbonmonoxide_sensor_altitude                            1752 non-null   float64\n",
            " 22  carbonmonoxide_sensor_azimuth_angle                       1752 non-null   float64\n",
            " 23  carbonmonoxide_sensor_zenith_angle                        1752 non-null   float64\n",
            " 24  carbonmonoxide_solar_azimuth_angle                        1752 non-null   float64\n",
            " 25  carbonmonoxide_solar_zenith_angle                         1752 non-null   float64\n",
            " 26  nitrogendioxide_no2_column_number_density                 1689 non-null   float64\n",
            " 27  nitrogendioxide_tropospheric_no2_column_number_density    1689 non-null   float64\n",
            " 28  nitrogendioxide_stratospheric_no2_column_number_density   1689 non-null   float64\n",
            " 29  nitrogendioxide_no2_slant_column_number_density           1689 non-null   float64\n",
            " 30  nitrogendioxide_tropopause_pressure                       1689 non-null   float64\n",
            " 31  nitrogendioxide_absorbing_aerosol_index                   1689 non-null   float64\n",
            " 32  nitrogendioxide_cloud_fraction                            1689 non-null   float64\n",
            " 33  nitrogendioxide_sensor_altitude                           1689 non-null   float64\n",
            " 34  nitrogendioxide_sensor_azimuth_angle                      1689 non-null   float64\n",
            " 35  nitrogendioxide_sensor_zenith_angle                       1689 non-null   float64\n",
            " 36  nitrogendioxide_solar_azimuth_angle                       1689 non-null   float64\n",
            " 37  nitrogendioxide_solar_zenith_angle                        1689 non-null   float64\n",
            " 38  formaldehyde_tropospheric_hcho_column_number_density      2023 non-null   float64\n",
            " 39  formaldehyde_tropospheric_hcho_column_number_density_amf  2023 non-null   float64\n",
            " 40  formaldehyde_hcho_slant_column_number_density             2023 non-null   float64\n",
            " 41  formaldehyde_cloud_fraction                               2023 non-null   float64\n",
            " 42  formaldehyde_solar_zenith_angle                           2023 non-null   float64\n",
            " 43  formaldehyde_solar_azimuth_angle                          2023 non-null   float64\n",
            " 44  formaldehyde_sensor_zenith_angle                          2023 non-null   float64\n",
            " 45  formaldehyde_sensor_azimuth_angle                         2023 non-null   float64\n",
            " 46  uvaerosolindex_absorbing_aerosol_index                    2782 non-null   float64\n",
            " 47  uvaerosolindex_sensor_altitude                            2782 non-null   float64\n",
            " 48  uvaerosolindex_sensor_azimuth_angle                       2782 non-null   float64\n",
            " 49  uvaerosolindex_sensor_zenith_angle                        2782 non-null   float64\n",
            " 50  uvaerosolindex_solar_azimuth_angle                        2782 non-null   float64\n",
            " 51  uvaerosolindex_solar_zenith_angle                         2782 non-null   float64\n",
            " 52  ozone_o3_column_number_density                            2769 non-null   float64\n",
            " 53  ozone_o3_column_number_density_amf                        2769 non-null   float64\n",
            " 54  ozone_o3_slant_column_number_density                      2769 non-null   float64\n",
            " 55  ozone_o3_effective_temperature                            2769 non-null   float64\n",
            " 56  ozone_cloud_fraction                                      2769 non-null   float64\n",
            " 57  ozone_sensor_azimuth_angle                                2769 non-null   float64\n",
            " 58  ozone_sensor_zenith_angle                                 2769 non-null   float64\n",
            " 59  ozone_solar_azimuth_angle                                 2769 non-null   float64\n",
            " 60  ozone_solar_zenith_angle                                  2769 non-null   float64\n",
            " 61  uvaerosollayerheight_aerosol_height                       64 non-null     float64\n",
            " 62  uvaerosollayerheight_aerosol_pressure                     64 non-null     float64\n",
            " 63  uvaerosollayerheight_aerosol_optical_depth                64 non-null     float64\n",
            " 64  uvaerosollayerheight_sensor_zenith_angle                  64 non-null     float64\n",
            " 65  uvaerosollayerheight_sensor_azimuth_angle                 64 non-null     float64\n",
            " 66  uvaerosollayerheight_solar_azimuth_angle                  64 non-null     float64\n",
            " 67  uvaerosollayerheight_solar_zenith_angle                   64 non-null     float64\n",
            " 68  cloud_cloud_fraction                                      1504 non-null   float64\n",
            " 69  cloud_cloud_top_pressure                                  1504 non-null   float64\n",
            " 70  cloud_cloud_top_height                                    1504 non-null   float64\n",
            " 71  cloud_cloud_base_pressure                                 1504 non-null   float64\n",
            " 72  cloud_cloud_base_height                                   1504 non-null   float64\n",
            " 73  cloud_cloud_optical_depth                                 1504 non-null   float64\n",
            " 74  cloud_surface_albedo                                      1504 non-null   float64\n",
            " 75  cloud_sensor_azimuth_angle                                1504 non-null   float64\n",
            " 76  cloud_sensor_zenith_angle                                 1504 non-null   float64\n",
            " 77  cloud_solar_azimuth_angle                                 1504 non-null   float64\n",
            " 78  cloud_solar_zenith_angle                                  1504 non-null   float64\n",
            "dtypes: float64(73), int64(1), object(5)\n",
            "memory usage: 1.7+ MB\n"
          ]
        }
      ],
      "source": [
        "# Display structure of the dataset\n",
        "test.info()"
      ]
    },
    {
      "cell_type": "code",
      "execution_count": 8,
      "metadata": {
        "colab": {
          "base_uri": "https://localhost:8080/",
          "height": 350
        },
        "id": "6kIuTrByfj1E",
        "outputId": "b16ab9c0-8173-461d-e64a-69dd208dd63b"
      },
      "outputs": [
        {
          "data": {
            "text/html": [
              "<div>\n",
              "<style scoped>\n",
              "    .dataframe tbody tr th:only-of-type {\n",
              "        vertical-align: middle;\n",
              "    }\n",
              "\n",
              "    .dataframe tbody tr th {\n",
              "        vertical-align: top;\n",
              "    }\n",
              "\n",
              "    .dataframe thead th {\n",
              "        text-align: right;\n",
              "    }\n",
              "</style>\n",
              "<table border=\"1\" class=\"dataframe\">\n",
              "  <thead>\n",
              "    <tr style=\"text-align: right;\">\n",
              "      <th></th>\n",
              "      <th>site_latitude</th>\n",
              "      <th>site_longitude</th>\n",
              "      <th>hour</th>\n",
              "      <th>sulphurdioxide_so2_column_number_density</th>\n",
              "      <th>sulphurdioxide_so2_column_number_density_amf</th>\n",
              "      <th>sulphurdioxide_so2_slant_column_number_density</th>\n",
              "      <th>sulphurdioxide_cloud_fraction</th>\n",
              "      <th>sulphurdioxide_sensor_azimuth_angle</th>\n",
              "      <th>sulphurdioxide_sensor_zenith_angle</th>\n",
              "      <th>sulphurdioxide_solar_azimuth_angle</th>\n",
              "      <th>...</th>\n",
              "      <th>cloud_cloud_top_pressure</th>\n",
              "      <th>cloud_cloud_top_height</th>\n",
              "      <th>cloud_cloud_base_pressure</th>\n",
              "      <th>cloud_cloud_base_height</th>\n",
              "      <th>cloud_cloud_optical_depth</th>\n",
              "      <th>cloud_surface_albedo</th>\n",
              "      <th>cloud_sensor_azimuth_angle</th>\n",
              "      <th>cloud_sensor_zenith_angle</th>\n",
              "      <th>cloud_solar_azimuth_angle</th>\n",
              "      <th>cloud_solar_zenith_angle</th>\n",
              "    </tr>\n",
              "  </thead>\n",
              "  <tbody>\n",
              "    <tr>\n",
              "      <th>count</th>\n",
              "      <td>2783.000000</td>\n",
              "      <td>2783.000000</td>\n",
              "      <td>2783.000000</td>\n",
              "      <td>1709.000000</td>\n",
              "      <td>1709.000000</td>\n",
              "      <td>1709.000000</td>\n",
              "      <td>1709.000000</td>\n",
              "      <td>1709.000000</td>\n",
              "      <td>1709.000000</td>\n",
              "      <td>1709.000000</td>\n",
              "      <td>...</td>\n",
              "      <td>1504.000000</td>\n",
              "      <td>1504.000000</td>\n",
              "      <td>1504.000000</td>\n",
              "      <td>1504.000000</td>\n",
              "      <td>1504.000000</td>\n",
              "      <td>1504.000000</td>\n",
              "      <td>1504.000000</td>\n",
              "      <td>1504.000000</td>\n",
              "      <td>1504.000000</td>\n",
              "      <td>1504.000000</td>\n",
              "    </tr>\n",
              "    <tr>\n",
              "      <th>mean</th>\n",
              "      <td>1.549512</td>\n",
              "      <td>28.547601</td>\n",
              "      <td>10.968020</td>\n",
              "      <td>0.000019</td>\n",
              "      <td>0.671654</td>\n",
              "      <td>0.000010</td>\n",
              "      <td>0.096423</td>\n",
              "      <td>-11.358700</td>\n",
              "      <td>40.219066</td>\n",
              "      <td>-86.105632</td>\n",
              "      <td>...</td>\n",
              "      <td>52628.887085</td>\n",
              "      <td>5915.129943</td>\n",
              "      <td>59255.860492</td>\n",
              "      <td>4942.499342</td>\n",
              "      <td>12.586550</td>\n",
              "      <td>0.263633</td>\n",
              "      <td>-17.920188</td>\n",
              "      <td>49.103404</td>\n",
              "      <td>-84.325586</td>\n",
              "      <td>29.873696</td>\n",
              "    </tr>\n",
              "    <tr>\n",
              "      <th>std</th>\n",
              "      <td>2.113084</td>\n",
              "      <td>12.401021</td>\n",
              "      <td>0.974542</td>\n",
              "      <td>0.000329</td>\n",
              "      <td>0.167967</td>\n",
              "      <td>0.000202</td>\n",
              "      <td>0.095916</td>\n",
              "      <td>86.509087</td>\n",
              "      <td>18.573421</td>\n",
              "      <td>42.787118</td>\n",
              "      <td>...</td>\n",
              "      <td>16364.796559</td>\n",
              "      <td>2776.317745</td>\n",
              "      <td>17733.478506</td>\n",
              "      <td>2747.013572</td>\n",
              "      <td>19.371130</td>\n",
              "      <td>0.048321</td>\n",
              "      <td>85.544172</td>\n",
              "      <td>13.314652</td>\n",
              "      <td>42.560791</td>\n",
              "      <td>7.017742</td>\n",
              "    </tr>\n",
              "    <tr>\n",
              "      <th>min</th>\n",
              "      <td>-0.140730</td>\n",
              "      <td>-0.260570</td>\n",
              "      <td>10.000000</td>\n",
              "      <td>-0.000991</td>\n",
              "      <td>0.377971</td>\n",
              "      <td>-0.000778</td>\n",
              "      <td>0.000000</td>\n",
              "      <td>-102.784803</td>\n",
              "      <td>2.652696</td>\n",
              "      <td>-165.526367</td>\n",
              "      <td>...</td>\n",
              "      <td>13716.184570</td>\n",
              "      <td>679.022522</td>\n",
              "      <td>16184.467773</td>\n",
              "      <td>26.373798</td>\n",
              "      <td>1.007213</td>\n",
              "      <td>0.029857</td>\n",
              "      <td>-102.704803</td>\n",
              "      <td>2.997329</td>\n",
              "      <td>-165.526291</td>\n",
              "      <td>10.053283</td>\n",
              "    </tr>\n",
              "    <tr>\n",
              "      <th>25%</th>\n",
              "      <td>-0.101823</td>\n",
              "      <td>32.300407</td>\n",
              "      <td>10.000000</td>\n",
              "      <td>-0.000175</td>\n",
              "      <td>0.570959</td>\n",
              "      <td>-0.000120</td>\n",
              "      <td>0.000000</td>\n",
              "      <td>-99.367859</td>\n",
              "      <td>27.834786</td>\n",
              "      <td>-129.742325</td>\n",
              "      <td>...</td>\n",
              "      <td>42113.936231</td>\n",
              "      <td>4039.221479</td>\n",
              "      <td>47643.058594</td>\n",
              "      <td>3066.322547</td>\n",
              "      <td>4.180227</td>\n",
              "      <td>0.231757</td>\n",
              "      <td>-98.452573</td>\n",
              "      <td>40.628867</td>\n",
              "      <td>-125.704384</td>\n",
              "      <td>24.512137</td>\n",
              "    </tr>\n",
              "    <tr>\n",
              "      <th>50%</th>\n",
              "      <td>-0.070787</td>\n",
              "      <td>34.752824</td>\n",
              "      <td>11.000000</td>\n",
              "      <td>-0.000003</td>\n",
              "      <td>0.633956</td>\n",
              "      <td>-0.000002</td>\n",
              "      <td>0.072231</td>\n",
              "      <td>70.071861</td>\n",
              "      <td>41.864498</td>\n",
              "      <td>-71.376900</td>\n",
              "      <td>...</td>\n",
              "      <td>53353.406351</td>\n",
              "      <td>5469.088823</td>\n",
              "      <td>59878.560547</td>\n",
              "      <td>4485.485268</td>\n",
              "      <td>6.996820</td>\n",
              "      <td>0.263927</td>\n",
              "      <td>-97.247214</td>\n",
              "      <td>53.075366</td>\n",
              "      <td>-68.727708</td>\n",
              "      <td>29.742252</td>\n",
              "    </tr>\n",
              "    <tr>\n",
              "      <th>75%</th>\n",
              "      <td>2.789675</td>\n",
              "      <td>34.762048</td>\n",
              "      <td>11.000000</td>\n",
              "      <td>0.000214</td>\n",
              "      <td>0.733701</td>\n",
              "      <td>0.000137</td>\n",
              "      <td>0.177193</td>\n",
              "      <td>73.238297</td>\n",
              "      <td>55.630920</td>\n",
              "      <td>-47.890350</td>\n",
              "      <td>...</td>\n",
              "      <td>63558.115715</td>\n",
              "      <td>7325.507324</td>\n",
              "      <td>71315.689494</td>\n",
              "      <td>6325.507324</td>\n",
              "      <td>12.644257</td>\n",
              "      <td>0.296649</td>\n",
              "      <td>72.467522</td>\n",
              "      <td>60.301841</td>\n",
              "      <td>-50.514651</td>\n",
              "      <td>35.600303</td>\n",
              "    </tr>\n",
              "    <tr>\n",
              "      <th>max</th>\n",
              "      <td>5.651470</td>\n",
              "      <td>34.803285</td>\n",
              "      <td>14.000000</td>\n",
              "      <td>0.002468</td>\n",
              "      <td>1.725046</td>\n",
              "      <td>0.001082</td>\n",
              "      <td>0.298844</td>\n",
              "      <td>77.055786</td>\n",
              "      <td>66.224426</td>\n",
              "      <td>-22.725188</td>\n",
              "      <td>...</td>\n",
              "      <td>93750.632813</td>\n",
              "      <td>14816.351563</td>\n",
              "      <td>100585.117188</td>\n",
              "      <td>13816.351563</td>\n",
              "      <td>168.980896</td>\n",
              "      <td>0.419126</td>\n",
              "      <td>75.903503</td>\n",
              "      <td>66.224319</td>\n",
              "      <td>-22.720990</td>\n",
              "      <td>42.295593</td>\n",
              "    </tr>\n",
              "  </tbody>\n",
              "</table>\n",
              "<p>8 rows × 74 columns</p>\n",
              "</div>"
            ],
            "text/plain": [
              "       site_latitude  site_longitude         hour  \\\n",
              "count    2783.000000     2783.000000  2783.000000   \n",
              "mean        1.549512       28.547601    10.968020   \n",
              "std         2.113084       12.401021     0.974542   \n",
              "min        -0.140730       -0.260570    10.000000   \n",
              "25%        -0.101823       32.300407    10.000000   \n",
              "50%        -0.070787       34.752824    11.000000   \n",
              "75%         2.789675       34.762048    11.000000   \n",
              "max         5.651470       34.803285    14.000000   \n",
              "\n",
              "       sulphurdioxide_so2_column_number_density  \\\n",
              "count                               1709.000000   \n",
              "mean                                   0.000019   \n",
              "std                                    0.000329   \n",
              "min                                   -0.000991   \n",
              "25%                                   -0.000175   \n",
              "50%                                   -0.000003   \n",
              "75%                                    0.000214   \n",
              "max                                    0.002468   \n",
              "\n",
              "       sulphurdioxide_so2_column_number_density_amf  \\\n",
              "count                                   1709.000000   \n",
              "mean                                       0.671654   \n",
              "std                                        0.167967   \n",
              "min                                        0.377971   \n",
              "25%                                        0.570959   \n",
              "50%                                        0.633956   \n",
              "75%                                        0.733701   \n",
              "max                                        1.725046   \n",
              "\n",
              "       sulphurdioxide_so2_slant_column_number_density  \\\n",
              "count                                     1709.000000   \n",
              "mean                                         0.000010   \n",
              "std                                          0.000202   \n",
              "min                                         -0.000778   \n",
              "25%                                         -0.000120   \n",
              "50%                                         -0.000002   \n",
              "75%                                          0.000137   \n",
              "max                                          0.001082   \n",
              "\n",
              "       sulphurdioxide_cloud_fraction  sulphurdioxide_sensor_azimuth_angle  \\\n",
              "count                    1709.000000                          1709.000000   \n",
              "mean                        0.096423                           -11.358700   \n",
              "std                         0.095916                            86.509087   \n",
              "min                         0.000000                          -102.784803   \n",
              "25%                         0.000000                           -99.367859   \n",
              "50%                         0.072231                            70.071861   \n",
              "75%                         0.177193                            73.238297   \n",
              "max                         0.298844                            77.055786   \n",
              "\n",
              "       sulphurdioxide_sensor_zenith_angle  sulphurdioxide_solar_azimuth_angle  \\\n",
              "count                         1709.000000                         1709.000000   \n",
              "mean                            40.219066                          -86.105632   \n",
              "std                             18.573421                           42.787118   \n",
              "min                              2.652696                         -165.526367   \n",
              "25%                             27.834786                         -129.742325   \n",
              "50%                             41.864498                          -71.376900   \n",
              "75%                             55.630920                          -47.890350   \n",
              "max                             66.224426                          -22.725188   \n",
              "\n",
              "       ...  cloud_cloud_top_pressure  cloud_cloud_top_height  \\\n",
              "count  ...               1504.000000             1504.000000   \n",
              "mean   ...              52628.887085             5915.129943   \n",
              "std    ...              16364.796559             2776.317745   \n",
              "min    ...              13716.184570              679.022522   \n",
              "25%    ...              42113.936231             4039.221479   \n",
              "50%    ...              53353.406351             5469.088823   \n",
              "75%    ...              63558.115715             7325.507324   \n",
              "max    ...              93750.632813            14816.351563   \n",
              "\n",
              "       cloud_cloud_base_pressure  cloud_cloud_base_height  \\\n",
              "count                1504.000000              1504.000000   \n",
              "mean                59255.860492              4942.499342   \n",
              "std                 17733.478506              2747.013572   \n",
              "min                 16184.467773                26.373798   \n",
              "25%                 47643.058594              3066.322547   \n",
              "50%                 59878.560547              4485.485268   \n",
              "75%                 71315.689494              6325.507324   \n",
              "max                100585.117188             13816.351563   \n",
              "\n",
              "       cloud_cloud_optical_depth  cloud_surface_albedo  \\\n",
              "count                1504.000000           1504.000000   \n",
              "mean                   12.586550              0.263633   \n",
              "std                    19.371130              0.048321   \n",
              "min                     1.007213              0.029857   \n",
              "25%                     4.180227              0.231757   \n",
              "50%                     6.996820              0.263927   \n",
              "75%                    12.644257              0.296649   \n",
              "max                   168.980896              0.419126   \n",
              "\n",
              "       cloud_sensor_azimuth_angle  cloud_sensor_zenith_angle  \\\n",
              "count                 1504.000000                1504.000000   \n",
              "mean                   -17.920188                  49.103404   \n",
              "std                     85.544172                  13.314652   \n",
              "min                   -102.704803                   2.997329   \n",
              "25%                    -98.452573                  40.628867   \n",
              "50%                    -97.247214                  53.075366   \n",
              "75%                     72.467522                  60.301841   \n",
              "max                     75.903503                  66.224319   \n",
              "\n",
              "       cloud_solar_azimuth_angle  cloud_solar_zenith_angle  \n",
              "count                1504.000000               1504.000000  \n",
              "mean                  -84.325586                 29.873696  \n",
              "std                    42.560791                  7.017742  \n",
              "min                  -165.526291                 10.053283  \n",
              "25%                  -125.704384                 24.512137  \n",
              "50%                   -68.727708                 29.742252  \n",
              "75%                   -50.514651                 35.600303  \n",
              "max                   -22.720990                 42.295593  \n",
              "\n",
              "[8 rows x 74 columns]"
            ]
          },
          "execution_count": 8,
          "metadata": {},
          "output_type": "execute_result"
        }
      ],
      "source": [
        "# Summary statistics\n",
        "test.describe()"
      ]
    },
    {
      "cell_type": "markdown",
      "metadata": {
        "id": "vjBkCQtoj9PJ"
      },
      "source": [
        "# 4.Data Cleaning\n",
        "\n",
        "\n"
      ]
    },
    {
      "cell_type": "code",
      "execution_count": 10,
      "metadata": {
        "colab": {
          "base_uri": "https://localhost:8080/"
        },
        "id": "C-IqYf3TkCvE",
        "outputId": "dc4aaa69-9c8c-4ee8-e9b5-a693bb3f976c"
      },
      "outputs": [
        {
          "data": {
            "text/plain": [
              "id                               0\n",
              "site_id                          0\n",
              "site_latitude                    0\n",
              "site_longitude                   0\n",
              "city                             0\n",
              "                              ... \n",
              "cloud_sensor_azimuth_angle    3077\n",
              "cloud_sensor_zenith_angle     3077\n",
              "cloud_solar_azimuth_angle     3077\n",
              "cloud_solar_zenith_angle      3077\n",
              "pm2_5                            0\n",
              "Length: 80, dtype: int64"
            ]
          },
          "execution_count": 10,
          "metadata": {},
          "output_type": "execute_result"
        }
      ],
      "source": [
        "# Check for missing values\n",
        "train.isnull().sum()"
      ]
    },
    {
      "cell_type": "code",
      "execution_count": 11,
      "metadata": {
        "id": "jjhJwh-XkMFr"
      },
      "outputs": [],
      "source": [
        "# Remove duplicates\n",
        "train = train.drop_duplicates()"
      ]
    },
    {
      "cell_type": "code",
      "execution_count": 12,
      "metadata": {
        "colab": {
          "base_uri": "https://localhost:8080/"
        },
        "id": "rlWidKyEkbq1",
        "outputId": "cf82ca60-b279-4993-c568-eaac5bc426e2"
      },
      "outputs": [
        {
          "data": {
            "text/plain": [
              "id                               0\n",
              "site_id                          0\n",
              "site_latitude                    0\n",
              "site_longitude                   0\n",
              "city                             0\n",
              "                              ... \n",
              "cloud_surface_albedo          1279\n",
              "cloud_sensor_azimuth_angle    1279\n",
              "cloud_sensor_zenith_angle     1279\n",
              "cloud_solar_azimuth_angle     1279\n",
              "cloud_solar_zenith_angle      1279\n",
              "Length: 79, dtype: int64"
            ]
          },
          "execution_count": 12,
          "metadata": {},
          "output_type": "execute_result"
        }
      ],
      "source": [
        "test.isnull().sum()"
      ]
    },
    {
      "cell_type": "code",
      "execution_count": 13,
      "metadata": {
        "id": "r2zUmCBpkjuD"
      },
      "outputs": [],
      "source": [
        "test = test.drop_duplicates()"
      ]
    },
    {
      "cell_type": "markdown",
      "metadata": {
        "id": "QAl8NWLJleH1"
      },
      "source": [
        "# 5.Data Visualization"
      ]
    },
    {
      "cell_type": "code",
      "execution_count": 14,
      "metadata": {
        "colab": {
          "base_uri": "https://localhost:8080/",
          "height": 487
        },
        "id": "B61VV-Pnlq0_",
        "outputId": "d87008a9-10f3-4f85-98bc-a2d44cd83773"
      },
      "outputs": [
        {
          "data": {
            "image/png": "[encoded data removed]",
            "text/plain": [
              "<Figure size 1100x500 with 1 Axes>"
            ]
          },
          "metadata": {},
          "output_type": "display_data"
        }
      ],
      "source": [
        "import matplotlib.pyplot as plt\n",
        "import seaborn as sns\n",
        "\n",
        "plt.figure(figsize=(11, 5))\n",
        "sns.histplot(train.pm2_5)\n",
        "#uncomment to see detailed distribution\n",
        "#plt.xlim(0, 180)  # Set the x-axis range\n",
        "plt.title('Target Distribution')\n",
        "plt.show()"
      ]
    },
    {
      "cell_type": "markdown",
      "metadata": {
        "id": "5Vf6Q-Bpoly-"
      },
      "source": [
        "# Insights and Conclusion\n",
        "Histogram Skewed to the right\n",
        "-Indicates most values are low with high outliers. These outliers can affect statistical measures, suggesting careful examination and potential adjustment. It implies most instances in the dataset have smaller values.\n",
        "\n"
      ]
    },
    {
      "cell_type": "code",
      "execution_count": 15,
      "metadata": {
        "colab": {
          "base_uri": "https://localhost:8080/",
          "height": 864
        },
        "id": "nVqSg4AC05rx",
        "outputId": "9ed17776-1adf-4579-dcef-a297506e94cb"
      },
      "outputs": [
        {
          "data": {
            "image/png": "[encoded data removed]",
            "text/plain": [
              "<Figure size 640x480 with 2 Axes>"
            ]
          },
          "metadata": {},
          "output_type": "display_data"
        }
      ],
      "source": [
        "# Select only numerical features\n",
        "train_num_df = train.select_dtypes(include=['number'])\n",
        "\n",
        "top10_corrs = abs(train_num_df.corr()['pm2_5']).sort_values(ascending = False).head(10)\n",
        "corr = train_num_df[list(top10_corrs.index)].corr()\n",
        "sns.heatmap(corr, cmap='RdYlGn', annot = True, center = 0)\n",
        "plt.title('Correlations between the target and other variables', pad = 15, fontdict={'size': 13})\n",
        "plt.show()"
      ]
    },
    {
      "cell_type": "code",
      "execution_count": 16,
      "metadata": {
        "colab": {
          "base_uri": "https://localhost:8080/",
          "height": 424
        },
        "id": "TDo8qsmp3-cO",
        "outputId": "0e29025a-eb36-44e1-8961-fae25b83fa73"
      },
      "outputs": [
        {
          "data": {
            "text/html": [
              "<div>\n",
              "<style scoped>\n",
              "    .dataframe tbody tr th:only-of-type {\n",
              "        vertical-align: middle;\n",
              "    }\n",
              "\n",
              "    .dataframe tbody tr th {\n",
              "        vertical-align: top;\n",
              "    }\n",
              "\n",
              "    .dataframe thead th {\n",
              "        text-align: right;\n",
              "    }\n",
              "</style>\n",
              "<table border=\"1\" class=\"dataframe\">\n",
              "  <thead>\n",
              "    <tr style=\"text-align: right;\">\n",
              "      <th></th>\n",
              "      <th>uvaerosollayerheight_sensor_zenith_angle</th>\n",
              "      <th>nitrogendioxide_solar_azimuth_angle</th>\n",
              "    </tr>\n",
              "  </thead>\n",
              "  <tbody>\n",
              "    <tr>\n",
              "      <th>0</th>\n",
              "      <td>NaN</td>\n",
              "      <td>NaN</td>\n",
              "    </tr>\n",
              "    <tr>\n",
              "      <th>1</th>\n",
              "      <td>NaN</td>\n",
              "      <td>NaN</td>\n",
              "    </tr>\n",
              "    <tr>\n",
              "      <th>2</th>\n",
              "      <td>NaN</td>\n",
              "      <td>NaN</td>\n",
              "    </tr>\n",
              "    <tr>\n",
              "      <th>3</th>\n",
              "      <td>NaN</td>\n",
              "      <td>NaN</td>\n",
              "    </tr>\n",
              "    <tr>\n",
              "      <th>4</th>\n",
              "      <td>NaN</td>\n",
              "      <td>-126.064468</td>\n",
              "    </tr>\n",
              "    <tr>\n",
              "      <th>...</th>\n",
              "      <td>...</td>\n",
              "      <td>...</td>\n",
              "    </tr>\n",
              "    <tr>\n",
              "      <th>95</th>\n",
              "      <td>NaN</td>\n",
              "      <td>NaN</td>\n",
              "    </tr>\n",
              "    <tr>\n",
              "      <th>96</th>\n",
              "      <td>NaN</td>\n",
              "      <td>NaN</td>\n",
              "    </tr>\n",
              "    <tr>\n",
              "      <th>97</th>\n",
              "      <td>NaN</td>\n",
              "      <td>NaN</td>\n",
              "    </tr>\n",
              "    <tr>\n",
              "      <th>98</th>\n",
              "      <td>NaN</td>\n",
              "      <td>NaN</td>\n",
              "    </tr>\n",
              "    <tr>\n",
              "      <th>99</th>\n",
              "      <td>NaN</td>\n",
              "      <td>NaN</td>\n",
              "    </tr>\n",
              "  </tbody>\n",
              "</table>\n",
              "<p>100 rows × 2 columns</p>\n",
              "</div>"
            ],
            "text/plain": [
              "    uvaerosollayerheight_sensor_zenith_angle  \\\n",
              "0                                        NaN   \n",
              "1                                        NaN   \n",
              "2                                        NaN   \n",
              "3                                        NaN   \n",
              "4                                        NaN   \n",
              "..                                       ...   \n",
              "95                                       NaN   \n",
              "96                                       NaN   \n",
              "97                                       NaN   \n",
              "98                                       NaN   \n",
              "99                                       NaN   \n",
              "\n",
              "    nitrogendioxide_solar_azimuth_angle  \n",
              "0                                   NaN  \n",
              "1                                   NaN  \n",
              "2                                   NaN  \n",
              "3                                   NaN  \n",
              "4                           -126.064468  \n",
              "..                                  ...  \n",
              "95                                  NaN  \n",
              "96                                  NaN  \n",
              "97                                  NaN  \n",
              "98                                  NaN  \n",
              "99                                  NaN  \n",
              "\n",
              "[100 rows x 2 columns]"
            ]
          },
          "execution_count": 16,
          "metadata": {},
          "output_type": "execute_result"
        }
      ],
      "source": [
        "'''\n",
        " Filter the 'train' DataFrame to include only the columns 'uvaerosollayerheight_sensor_zenith_angle'\n",
        " and 'nitrogendioxide_solar_azimuth_angle'. Display the first 100 rows to investigate why these columns\n",
        " have a correlation of one.\n",
        " '''\n",
        "filtered_train = train[['uvaerosollayerheight_sensor_zenith_angle', 'nitrogendioxide_solar_azimuth_angle']]\n",
        "filtered_train.head(100)\n"
      ]
    },
    {
      "cell_type": "markdown",
      "metadata": {
        "id": "Fu7Af_eN4xtE"
      },
      "source": [
        "# **Insights and Conclusion**\n",
        "\n",
        "**Insight from Correlation Matrix with Correlation of One**\n",
        "\n",
        "Two columns having a correlation of one in the correlation matrix indicate a perfect linear relationship. This suggests:\n",
        "\n",
        "**Redundancy:**\n",
        "\n",
        "The two variables provide identical information, making one of them redundant. This redundancy can lead to multicollinearity issues in regression models."
      ]
    },
    {
      "cell_type": "markdown",
      "metadata": {
        "id": "BG-CFcBF6I7X"
      },
      "source": [
        "#6. Outlier Detection"
      ]
    },
    {
      "cell_type": "code",
      "execution_count": 17,
      "metadata": {
        "colab": {
          "base_uri": "https://localhost:8080/",
          "height": 452
        },
        "id": "Gx5gwXhl6qT3",
        "outputId": "890ce220-362d-4e4d-a6b5-81ee33bb305d"
      },
      "outputs": [
        {
          "data": {
            "image/png": "[encoded data removed]",
            "text/plain": [
              "<Figure size 1100x500 with 1 Axes>"
            ]
          },
          "metadata": {},
          "output_type": "display_data"
        }
      ],
      "source": [
        "# Check for outliers in the target variable\n",
        "plt.figure(figsize = (11, 5))\n",
        "sns.boxplot(train.pm2_5)\n",
        "plt.ylim(0, 180)\n",
        "plt.title('Boxplot showing outliers - target variable')\n",
        "plt.show()"
      ]
    },
    {
      "cell_type": "markdown",
      "metadata": {
        "id": "J8XW8N-j7n_J"
      },
      "source": [
        "\n",
        "# **Insights and Conclusion**\n",
        "\n",
        "**Outliers in the Target Variable**\n",
        "\n",
        "The boxplot reveals the presence of outliers in the target variable (`pm2_5`). Notably, there are significant outliers above the value of 140. These high outliers can impact the analysis and modeling, necessitating careful examination and potential handling strategies."
      ]
    },
    {
      "cell_type": "markdown",
      "metadata": {
        "id": "tx2Q6bA9wkBk"
      },
      "source": [
        "**7. Feature engineering**\n",
        "\n",
        "Do advanced data cleaning like filling nulls, fixing datatypes and choosing columns that will leadn to great performance of our model."
      ]
    },
    {
      "cell_type": "code",
      "execution_count": 18,
      "metadata": {
        "colab": {
          "base_uri": "https://localhost:8080/"
        },
        "id": "z028GlOvuxp6",
        "outputId": "b0c71092-00e0-4ca2-8529-1117d3e629e1"
      },
      "outputs": [
        {
          "name": "stdout",
          "output_type": "stream",
          "text": [
            "Columns with null values and their percentages:\n",
            "id: 0.0%\n",
            "site_id: 0.0%\n",
            "site_latitude: 0.0%\n",
            "site_longitude: 0.0%\n",
            "city: 0.0%\n",
            "country: 0.0%\n",
            "date: 0.0%\n",
            "hour: 0.0%\n",
            "sulphurdioxide_so2_column_number_density: 60.86%\n",
            "sulphurdioxide_so2_column_number_density_amf: 60.86%\n",
            "sulphurdioxide_so2_slant_column_number_density: 60.86%\n",
            "sulphurdioxide_cloud_fraction: 60.86%\n",
            "sulphurdioxide_sensor_azimuth_angle: 60.86%\n",
            "sulphurdioxide_sensor_zenith_angle: 60.86%\n",
            "sulphurdioxide_solar_azimuth_angle: 60.86%\n",
            "sulphurdioxide_solar_zenith_angle: 60.86%\n",
            "sulphurdioxide_so2_column_number_density_15km: 60.86%\n",
            "month: 0.0%\n",
            "carbonmonoxide_co_column_number_density: 44.98%\n",
            "carbonmonoxide_h2o_column_number_density: 44.98%\n",
            "carbonmonoxide_cloud_height: 44.98%\n",
            "carbonmonoxide_sensor_altitude: 44.98%\n",
            "carbonmonoxide_sensor_azimuth_angle: 44.98%\n",
            "carbonmonoxide_sensor_zenith_angle: 44.98%\n",
            "carbonmonoxide_solar_azimuth_angle: 44.98%\n",
            "carbonmonoxide_solar_zenith_angle: 44.98%\n",
            "nitrogendioxide_no2_column_number_density: 61.54%\n",
            "nitrogendioxide_tropospheric_no2_column_number_density: 61.54%\n",
            "nitrogendioxide_stratospheric_no2_column_number_density: 61.54%\n",
            "nitrogendioxide_no2_slant_column_number_density: 61.54%\n",
            "nitrogendioxide_tropopause_pressure: 61.54%\n",
            "nitrogendioxide_absorbing_aerosol_index: 61.54%\n",
            "nitrogendioxide_cloud_fraction: 61.54%\n",
            "nitrogendioxide_sensor_altitude: 61.54%\n",
            "nitrogendioxide_sensor_azimuth_angle: 61.54%\n",
            "nitrogendioxide_sensor_zenith_angle: 61.54%\n",
            "nitrogendioxide_solar_azimuth_angle: 61.54%\n",
            "nitrogendioxide_solar_zenith_angle: 61.54%\n",
            "formaldehyde_tropospheric_hcho_column_number_density: 48.51%\n",
            "formaldehyde_tropospheric_hcho_column_number_density_amf: 48.51%\n",
            "formaldehyde_hcho_slant_column_number_density: 48.51%\n",
            "formaldehyde_cloud_fraction: 48.51%\n",
            "formaldehyde_solar_zenith_angle: 48.51%\n",
            "formaldehyde_solar_azimuth_angle: 48.51%\n",
            "formaldehyde_sensor_zenith_angle: 48.51%\n",
            "formaldehyde_sensor_azimuth_angle: 48.51%\n",
            "uvaerosolindex_absorbing_aerosol_index: 0.06%\n",
            "uvaerosolindex_sensor_altitude: 0.06%\n",
            "uvaerosolindex_sensor_azimuth_angle: 0.06%\n",
            "uvaerosolindex_sensor_zenith_angle: 0.06%\n",
            "uvaerosolindex_solar_azimuth_angle: 0.06%\n",
            "uvaerosolindex_solar_zenith_angle: 0.06%\n",
            "ozone_o3_column_number_density: 1.39%\n",
            "ozone_o3_column_number_density_amf: 1.39%\n",
            "ozone_o3_slant_column_number_density: 1.39%\n",
            "ozone_o3_effective_temperature: 1.39%\n",
            "ozone_cloud_fraction: 1.39%\n",
            "ozone_sensor_azimuth_angle: 1.39%\n",
            "ozone_sensor_zenith_angle: 1.39%\n",
            "ozone_solar_azimuth_angle: 1.39%\n",
            "ozone_solar_zenith_angle: 1.39%\n",
            "uvaerosollayerheight_aerosol_height: 94.71%\n",
            "uvaerosollayerheight_aerosol_pressure: 94.71%\n",
            "uvaerosollayerheight_aerosol_optical_depth: 94.71%\n",
            "uvaerosollayerheight_sensor_zenith_angle: 94.71%\n",
            "uvaerosollayerheight_sensor_azimuth_angle: 94.71%\n",
            "uvaerosollayerheight_solar_azimuth_angle: 94.71%\n",
            "uvaerosollayerheight_solar_zenith_angle: 94.71%\n",
            "cloud_cloud_fraction: 38.12%\n",
            "cloud_cloud_top_pressure: 38.12%\n",
            "cloud_cloud_top_height: 38.12%\n",
            "cloud_cloud_base_pressure: 38.12%\n",
            "cloud_cloud_base_height: 38.12%\n",
            "cloud_cloud_optical_depth: 38.12%\n",
            "cloud_surface_albedo: 38.12%\n",
            "cloud_sensor_azimuth_angle: 38.12%\n",
            "cloud_sensor_zenith_angle: 38.12%\n",
            "cloud_solar_azimuth_angle: 38.12%\n",
            "cloud_solar_zenith_angle: 38.12%\n",
            "pm2_5: 0.0%\n"
          ]
        }
      ],
      "source": [
        "# Calculate the percentage of null values for each column\n",
        "null_train_percentages = (train.isnull().mean() * 100).round(2)\n",
        "\n",
        "# Print column names with their percentage of null values or 0% if there are none\n",
        "print(\"Columns with null values and their percentages:\")\n",
        "for col in train.columns:\n",
        "    print(f\"{col}: {null_train_percentages[col]}%\")"
      ]
    },
    {
      "cell_type": "code",
      "execution_count": 19,
      "metadata": {
        "id": "BO9Hgh6Owjnp"
      },
      "outputs": [],
      "source": [
        "# Assuming df is your DataFrame\n",
        "for column in train:\n",
        "    if train[column].dtype == 'object':\n",
        "        train[column].fillna(train[column].mode()[0], inplace=True)\n",
        "    else:\n",
        "        train[column].fillna(train[column].median(), inplace=True)"
      ]
    },
    {
      "cell_type": "code",
      "execution_count": 20,
      "metadata": {
        "colab": {
          "base_uri": "https://localhost:8080/"
        },
        "id": "VWmyHyaOxpII",
        "outputId": "85a61594-a287-4b0e-87e0-6bd3e422f1b4"
      },
      "outputs": [
        {
          "name": "stdout",
          "output_type": "stream",
          "text": [
            "Columns with null values and their percentages:\n",
            "id: 0.0%\n",
            "site_id: 0.0%\n",
            "site_latitude: 0.0%\n",
            "site_longitude: 0.0%\n",
            "city: 0.0%\n",
            "country: 0.0%\n",
            "date: 0.0%\n",
            "hour: 0.0%\n",
            "sulphurdioxide_so2_column_number_density: 0.0%\n",
            "sulphurdioxide_so2_column_number_density_amf: 0.0%\n",
            "sulphurdioxide_so2_slant_column_number_density: 0.0%\n",
            "sulphurdioxide_cloud_fraction: 0.0%\n",
            "sulphurdioxide_sensor_azimuth_angle: 0.0%\n",
            "sulphurdioxide_sensor_zenith_angle: 0.0%\n",
            "sulphurdioxide_solar_azimuth_angle: 0.0%\n",
            "sulphurdioxide_solar_zenith_angle: 0.0%\n",
            "sulphurdioxide_so2_column_number_density_15km: 0.0%\n",
            "month: 0.0%\n",
            "carbonmonoxide_co_column_number_density: 0.0%\n",
            "carbonmonoxide_h2o_column_number_density: 0.0%\n",
            "carbonmonoxide_cloud_height: 0.0%\n",
            "carbonmonoxide_sensor_altitude: 0.0%\n",
            "carbonmonoxide_sensor_azimuth_angle: 0.0%\n",
            "carbonmonoxide_sensor_zenith_angle: 0.0%\n",
            "carbonmonoxide_solar_azimuth_angle: 0.0%\n",
            "carbonmonoxide_solar_zenith_angle: 0.0%\n",
            "nitrogendioxide_no2_column_number_density: 0.0%\n",
            "nitrogendioxide_tropospheric_no2_column_number_density: 0.0%\n",
            "nitrogendioxide_stratospheric_no2_column_number_density: 0.0%\n",
            "nitrogendioxide_no2_slant_column_number_density: 0.0%\n",
            "nitrogendioxide_tropopause_pressure: 0.0%\n",
            "nitrogendioxide_absorbing_aerosol_index: 0.0%\n",
            "nitrogendioxide_cloud_fraction: 0.0%\n",
            "nitrogendioxide_sensor_altitude: 0.0%\n",
            "nitrogendioxide_sensor_azimuth_angle: 0.0%\n",
            "nitrogendioxide_sensor_zenith_angle: 0.0%\n",
            "nitrogendioxide_solar_azimuth_angle: 0.0%\n",
            "nitrogendioxide_solar_zenith_angle: 0.0%\n",
            "formaldehyde_tropospheric_hcho_column_number_density: 0.0%\n",
            "formaldehyde_tropospheric_hcho_column_number_density_amf: 0.0%\n",
            "formaldehyde_hcho_slant_column_number_density: 0.0%\n",
            "formaldehyde_cloud_fraction: 0.0%\n",
            "formaldehyde_solar_zenith_angle: 0.0%\n",
            "formaldehyde_solar_azimuth_angle: 0.0%\n",
            "formaldehyde_sensor_zenith_angle: 0.0%\n",
            "formaldehyde_sensor_azimuth_angle: 0.0%\n",
            "uvaerosolindex_absorbing_aerosol_index: 0.0%\n",
            "uvaerosolindex_sensor_altitude: 0.0%\n",
            "uvaerosolindex_sensor_azimuth_angle: 0.0%\n",
            "uvaerosolindex_sensor_zenith_angle: 0.0%\n",
            "uvaerosolindex_solar_azimuth_angle: 0.0%\n",
            "uvaerosolindex_solar_zenith_angle: 0.0%\n",
            "ozone_o3_column_number_density: 0.0%\n",
            "ozone_o3_column_number_density_amf: 0.0%\n",
            "ozone_o3_slant_column_number_density: 0.0%\n",
            "ozone_o3_effective_temperature: 0.0%\n",
            "ozone_cloud_fraction: 0.0%\n",
            "ozone_sensor_azimuth_angle: 0.0%\n",
            "ozone_sensor_zenith_angle: 0.0%\n",
            "ozone_solar_azimuth_angle: 0.0%\n",
            "ozone_solar_zenith_angle: 0.0%\n",
            "uvaerosollayerheight_aerosol_height: 0.0%\n",
            "uvaerosollayerheight_aerosol_pressure: 0.0%\n",
            "uvaerosollayerheight_aerosol_optical_depth: 0.0%\n",
            "uvaerosollayerheight_sensor_zenith_angle: 0.0%\n",
            "uvaerosollayerheight_sensor_azimuth_angle: 0.0%\n",
            "uvaerosollayerheight_solar_azimuth_angle: 0.0%\n",
            "uvaerosollayerheight_solar_zenith_angle: 0.0%\n",
            "cloud_cloud_fraction: 0.0%\n",
            "cloud_cloud_top_pressure: 0.0%\n",
            "cloud_cloud_top_height: 0.0%\n",
            "cloud_cloud_base_pressure: 0.0%\n",
            "cloud_cloud_base_height: 0.0%\n",
            "cloud_cloud_optical_depth: 0.0%\n",
            "cloud_surface_albedo: 0.0%\n",
            "cloud_sensor_azimuth_angle: 0.0%\n",
            "cloud_sensor_zenith_angle: 0.0%\n",
            "cloud_solar_azimuth_angle: 0.0%\n",
            "cloud_solar_zenith_angle: 0.0%\n",
            "pm2_5: 0.0%\n"
          ]
        }
      ],
      "source": [
        "# Calculate the percentage of null values for each column\n",
        "null_train_percentages = (train.isnull().mean() * 100).round(2)\n",
        "\n",
        "# Print column names with their percentage of null values or 0% if there are none\n",
        "print(\"Columns with null values and their percentages:\")\n",
        "for col in train.columns:\n",
        "    print(f\"{col}: {null_train_percentages[col]}%\")"
      ]
    },
    {
      "cell_type": "code",
      "execution_count": 21,
      "metadata": {
        "id": "rNJA0t1_91tJ"
      },
      "outputs": [],
      "source": [
        "# Remove the unnecessary columns\n",
        "dropped_columns = ['id', 'site_id', 'city', 'country', 'date', 'hour', 'month']"
      ]
    },
    {
      "cell_type": "code",
      "execution_count": 22,
      "metadata": {
        "colab": {
          "base_uri": "https://localhost:8080/"
        },
        "id": "gvBPBXCVyHm4",
        "outputId": "37fe6601-5b19-4bf5-db56-334b9b6988fd"
      },
      "outputs": [
        {
          "name": "stdout",
          "output_type": "stream",
          "text": [
            "(6456, 72) (1615, 72) (6456,) (1615,)\n"
          ]
        }
      ],
      "source": [
        "from sklearn.model_selection import train_test_split\n",
        "from sklearn.preprocessing import StandardScaler\n",
        "\n",
        "# Assuming 'train' is your DataFrame and 'price' is the target variable\n",
        "X = train.drop(['id', 'site_id', 'city', 'country', 'date', 'hour', 'month', 'pm2_5'], axis=1)\n",
        "y = train['pm2_5']\n",
        "\n",
        "# Instantiate and fit StandardScaler\n",
        "scaler = StandardScaler()\n",
        "X_scaled = scaler.fit_transform(X)\n",
        "\n",
        "# Split the dataset into training and testing sets\n",
        "X_train, X_test, y_train, y_test = train_test_split(X_scaled, y, test_size=0.2, random_state=42)\n",
        "\n",
        "print(X_train.shape, X_test.shape, y_train.shape, y_test.shape)\n"
      ]
    },
    {
      "cell_type": "code",
      "execution_count": 23,
      "metadata": {
        "colab": {
          "base_uri": "https://localhost:8080/"
        },
        "id": "OTAuBVREz11F",
        "outputId": "068f66e1-4789-410a-e17a-0ab193048202"
      },
      "outputs": [
        {
          "data": {
            "text/plain": [
              "array([[ 2.73013292, -2.85987383, -0.02189815, ...,  0.17500374,\n",
              "        -0.59883928,  0.45454968],\n",
              "       [-0.15658029,  0.25059795, -0.02189815, ...,  1.2607628 ,\n",
              "         1.53484134, -1.60236773],\n",
              "       [-0.10692077,  0.25267725, -0.02189815, ...,  0.9992704 ,\n",
              "        -0.28266558,  0.96695921],\n",
              "       ...,\n",
              "       [-0.10692077,  0.25267725,  0.75352958, ..., -0.31776789,\n",
              "        -2.01862571, -0.99682724],\n",
              "       [-0.86833272,  0.69897476, -0.02189815, ...,  0.69468185,\n",
              "        -1.43817869,  1.12947898],\n",
              "       [-0.89208843,  0.70095622, -0.13187591, ...,  0.6945469 ,\n",
              "        -1.41544885,  1.8075032 ]])"
            ]
          },
          "execution_count": 23,
          "metadata": {},
          "output_type": "execute_result"
        }
      ],
      "source": [
        "X_train"
      ]
    },
    {
      "cell_type": "code",
      "execution_count": null,
      "metadata": {
        "colab": {
          "base_uri": "https://localhost:8080/"
        },
        "id": "1FU8aKKkyX0_",
        "outputId": "4cbe9481-4a91-4b3a-9802-b9d1f13cdc38"
      },
      "outputs": [
        {
          "name": "stdout",
          "output_type": "stream",
          "text": [
            "Collecting lazypredict\n",
            "  Downloading lazypredict-0.2.12-py2.py3-none-any.whl (12 kB)\n",
            "Requirement already satisfied: click in /usr/local/lib/python3.10/dist-packages (from lazypredict) (8.1.7)\n",
            "Requirement already satisfied: scikit-learn in /usr/local/lib/python3.10/dist-packages (from lazypredict) (1.2.2)\n",
            "Requirement already satisfied: pandas in /usr/local/lib/python3.10/dist-packages (from lazypredict) (2.0.3)\n",
            "Requirement already satisfied: tqdm in /usr/local/lib/python3.10/dist-packages (from lazypredict) (4.66.4)\n",
            "Requirement already satisfied: joblib in /usr/local/lib/python3.10/dist-packages (from lazypredict) (1.4.2)\n",
            "Requirement already satisfied: lightgbm in /usr/local/lib/python3.10/dist-packages (from lazypredict) (4.1.0)\n",
            "Requirement already satisfied: xgboost in /usr/local/lib/python3.10/dist-packages (from lazypredict) (2.0.3)\n",
            "Requirement already satisfied: numpy in /usr/local/lib/python3.10/dist-packages (from lightgbm->lazypredict) (1.25.2)\n",
            "Requirement already satisfied: scipy in /usr/local/lib/python3.10/dist-packages (from lightgbm->lazypredict) (1.11.4)\n",
            "Requirement already satisfied: python-dateutil>=2.8.2 in /usr/local/lib/python3.10/dist-packages (from pandas->lazypredict) (2.8.2)\n",
            "Requirement already satisfied: pytz>=2020.1 in /usr/local/lib/python3.10/dist-packages (from pandas->lazypredict) (2023.4)\n",
            "Requirement already satisfied: tzdata>=2022.1 in /usr/local/lib/python3.10/dist-packages (from pandas->lazypredict) (2024.1)\n",
            "Requirement already satisfied: threadpoolctl>=2.0.0 in /usr/local/lib/python3.10/dist-packages (from scikit-learn->lazypredict) (3.5.0)\n",
            "Requirement already satisfied: six>=1.5 in /usr/local/lib/python3.10/dist-packages (from python-dateutil>=2.8.2->pandas->lazypredict) (1.16.0)\n",
            "Installing collected packages: lazypredict\n",
            "Successfully installed lazypredict-0.2.12\n"
          ]
        }
      ],
      "source": [
        "!pip install lazypredict"
      ]
    },
    {
      "cell_type": "code",
      "execution_count": null,
      "metadata": {
        "colab": {
          "base_uri": "https://localhost:8080/"
        },
        "id": "NtcreJunzFw1",
        "outputId": "eaa372bd-b60b-4b50-f0f6-c0c1e3f25492"
      },
      "outputs": [
        {
          "name": "stdout",
          "output_type": "stream",
          "text": [
            "Python 3.10.12\n"
          ]
        }
      ],
      "source": [
        "!python3 --version"
      ]
    },
    {
      "cell_type": "code",
      "execution_count": null,
      "metadata": {
        "colab": {
          "base_uri": "https://localhost:8080/",
          "height": 349
        },
        "collapsed": true,
        "id": "z77bw_ZnyXxl",
        "outputId": "0d39045d-9577-4c35-dc2b-6adbbaf5eabf"
      },
      "outputs": [],
      "source": [
        "from lazypredict.Supervised import LazyRegressor\n",
        "# Initialize LazyRegressor\n",
        "regressors = LazyRegressor(verbose=0, ignore_warnings=True)"
      ]
    },
    {
      "cell_type": "code",
      "execution_count": null,
      "metadata": {
        "colab": {
          "base_uri": "https://localhost:8080/"
        },
        "id": "jUZMpqC4yXhS",
        "outputId": "5dc8f944-e3ee-4dcf-8459-7a96b4b3df95"
      },
      "outputs": [
        {
          "name": "stderr",
          "output_type": "stream",
          "text": [
            " 98%|█████████▊| 41/42 [02:13<00:03,  3.11s/it]"
          ]
        },
        {
          "name": "stdout",
          "output_type": "stream",
          "text": [
            "[LightGBM] [Info] Auto-choosing col-wise multi-threading, the overhead of testing was 0.006021 seconds.\n",
            "You can set `force_col_wise=true` to remove the overhead.\n",
            "[LightGBM] [Info] Total Bins 16768\n",
            "[LightGBM] [Info] Number of data points in the train set: 6456, number of used features: 72\n",
            "[LightGBM] [Info] Start training from score 24.439187\n"
          ]
        },
        {
          "name": "stderr",
          "output_type": "stream",
          "text": [
            "100%|██████████| 42/42 [02:15<00:00,  3.22s/it]\n"
          ]
        }
      ],
      "source": [
        "# Fit LazyRegressor on the training data\n",
        "models, predictions = regressors.fit(X_train, X_test, y_train, y_test)"
      ]
    },
    {
      "cell_type": "code",
      "execution_count": null,
      "metadata": {
        "colab": {
          "base_uri": "https://localhost:8080/"
        },
        "id": "gyx8KCw008Lb",
        "outputId": "77a55481-95f3-4043-9a68-f3a6453c262e"
      },
      "outputs": [
        {
          "name": "stdout",
          "output_type": "stream",
          "text": [
            "                               Adjusted R-Squared  R-Squared     RMSE  \\\n",
            "Model                                                                   \n",
            "HistGradientBoostingRegressor                0.63       0.65    15.79   \n",
            "LGBMRegressor                                0.62       0.64    15.98   \n",
            "XGBRegressor                                 0.52       0.54    17.99   \n",
            "GradientBoostingRegressor                    0.40       0.43    20.08   \n",
            "ExtraTreesRegressor                          0.36       0.38    20.86   \n",
            "RandomForestRegressor                        0.20       0.24    23.19   \n",
            "BaggingRegressor                             0.12       0.16    24.33   \n",
            "LassoCV                                      0.12       0.16    24.39   \n",
            "LassoLarsCV                                  0.12       0.16    24.39   \n",
            "ElasticNetCV                                 0.12       0.16    24.39   \n",
            "LassoLarsIC                                  0.12       0.16    24.40   \n",
            "BayesianRidge                                0.12       0.16    24.40   \n",
            "LassoLars                                    0.11       0.15    24.46   \n",
            "Lasso                                        0.11       0.15    24.46   \n",
            "Ridge                                        0.11       0.15    24.46   \n",
            "RidgeCV                                      0.11       0.15    24.47   \n",
            "TransformedTargetRegressor                   0.11       0.15    24.47   \n",
            "LinearRegression                             0.11       0.15    24.47   \n",
            "ElasticNet                                   0.11       0.15    24.48   \n",
            "TweedieRegressor                             0.11       0.15    24.49   \n",
            "OrthogonalMatchingPursuit                    0.11       0.15    24.49   \n",
            "OrthogonalMatchingPursuitCV                  0.11       0.15    24.49   \n",
            "SGDRegressor                                 0.11       0.15    24.58   \n",
            "PoissonRegressor                             0.10       0.14    24.63   \n",
            "LarsCV                                       0.10       0.14    24.64   \n",
            "GammaRegressor                               0.10       0.14    24.68   \n",
            "MLPRegressor                                 0.08       0.12    24.89   \n",
            "HuberRegressor                               0.08       0.12    24.98   \n",
            "LinearSVR                                    0.07       0.11    25.08   \n",
            "NuSVR                                        0.07       0.11    25.08   \n",
            "SVR                                          0.06       0.10    25.22   \n",
            "KNeighborsRegressor                          0.02       0.07    25.69   \n",
            "DummyRegressor                              -0.05      -0.00    26.61   \n",
            "PassiveAggressiveRegressor                  -0.07      -0.02    26.92   \n",
            "ExtraTreeRegressor                          -0.35      -0.29    30.18   \n",
            "DecisionTreeRegressor                       -0.39      -0.33    30.66   \n",
            "KernelRidge                                 -0.82      -0.74    35.06   \n",
            "AdaBoostRegressor                           -0.94      -0.85    36.20   \n",
            "GaussianProcessRegressor                  -449.33    -429.24   551.46   \n",
            "Lars                                   -102227.24  -97666.87  8308.70   \n",
            "RANSACRegressor                        -613732.68 -586354.23 20358.12   \n",
            "\n",
            "                               Time Taken  \n",
            "Model                                      \n",
            "HistGradientBoostingRegressor        1.45  \n",
            "LGBMRegressor                        1.68  \n",
            "XGBRegressor                         5.16  \n",
            "GradientBoostingRegressor           10.93  \n",
            "ExtraTreesRegressor                 20.87  \n",
            "RandomForestRegressor               34.46  \n",
            "BaggingRegressor                     5.98  \n",
            "LassoCV                              1.14  \n",
            "LassoLarsCV                          0.61  \n",
            "ElasticNetCV                         0.57  \n",
            "LassoLarsIC                          0.26  \n",
            "BayesianRidge                        0.23  \n",
            "LassoLars                            0.14  \n",
            "Lasso                                0.20  \n",
            "Ridge                                0.04  \n",
            "RidgeCV                              0.09  \n",
            "TransformedTargetRegressor           0.06  \n",
            "LinearRegression                     0.15  \n",
            "ElasticNet                           0.10  \n",
            "TweedieRegressor                     0.19  \n",
            "OrthogonalMatchingPursuit            0.06  \n",
            "OrthogonalMatchingPursuitCV          0.16  \n",
            "SGDRegressor                         0.11  \n",
            "PoissonRegressor                     1.20  \n",
            "LarsCV                               0.46  \n",
            "GammaRegressor                       0.32  \n",
            "MLPRegressor                         8.83  \n",
            "HuberRegressor                       0.28  \n",
            "LinearSVR                            0.37  \n",
            "NuSVR                                4.26  \n",
            "SVR                                  4.10  \n",
            "KNeighborsRegressor                  0.19  \n",
            "DummyRegressor                       0.04  \n",
            "PassiveAggressiveRegressor           0.16  \n",
            "ExtraTreeRegressor                   0.24  \n",
            "DecisionTreeRegressor                0.79  \n",
            "KernelRidge                          4.99  \n",
            "AdaBoostRegressor                    9.22  \n",
            "GaussianProcessRegressor            13.94  \n",
            "Lars                                 0.14  \n",
            "RANSACRegressor                      0.80  \n"
          ]
        }
      ],
      "source": [
        "print(models)"
      ]
    },
    {
      "cell_type": "code",
      "execution_count": 24,
      "metadata": {
        "colab": {
          "base_uri": "https://localhost:8080/",
          "height": 75
        },
        "id": "1Ok7qKQi3jzX",
        "outputId": "0be16c00-bae2-4356-9623-c957b1fee68f"
      },
      "outputs": [
        {
          "data": {
            "text/html": [
              "<style>#sk-container-id-1 {color: black;}#sk-container-id-1 pre{padding: 0;}#sk-container-id-1 div.sk-toggleable {background-color: white;}#sk-container-id-1 label.sk-toggleable__label {cursor: pointer;display: block;width: 100%;margin-bottom: 0;padding: 0.3em;box-sizing: border-box;text-align: center;}#sk-container-id-1 label.sk-toggleable__label-arrow:before {content: \"▸\";float: left;margin-right: 0.25em;color: #696969;}#sk-container-id-1 label.sk-toggleable__label-arrow:hover:before {color: black;}#sk-container-id-1 div.sk-estimator:hover label.sk-toggleable__label-arrow:before {color: black;}#sk-container-id-1 div.sk-toggleable__content {max-height: 0;max-width: 0;overflow: hidden;text-align: left;background-color: #f0f8ff;}#sk-container-id-1 div.sk-toggleable__content pre {margin: 0.2em;color: black;border-radius: 0.25em;background-color: #f0f8ff;}#sk-container-id-1 input.sk-toggleable__control:checked~div.sk-toggleable__content {max-height: 200px;max-width: 100%;overflow: auto;}#sk-container-id-1 input.sk-toggleable__control:checked~label.sk-toggleable__label-arrow:before {content: \"▾\";}#sk-container-id-1 div.sk-estimator input.sk-toggleable__control:checked~label.sk-toggleable__label {background-color: #d4ebff;}#sk-container-id-1 div.sk-label input.sk-toggleable__control:checked~label.sk-toggleable__label {background-color: #d4ebff;}#sk-container-id-1 input.sk-hidden--visually {border: 0;clip: rect(1px 1px 1px 1px);clip: rect(1px, 1px, 1px, 1px);height: 1px;margin: -1px;overflow: hidden;padding: 0;position: absolute;width: 1px;}#sk-container-id-1 div.sk-estimator {font-family: monospace;background-color: #f0f8ff;border: 1px dotted black;border-radius: 0.25em;box-sizing: border-box;margin-bottom: 0.5em;}#sk-container-id-1 div.sk-estimator:hover {background-color: #d4ebff;}#sk-container-id-1 div.sk-parallel-item::after {content: \"\";width: 100%;border-bottom: 1px solid gray;flex-grow: 1;}#sk-container-id-1 div.sk-label:hover label.sk-toggleable__label {background-color: #d4ebff;}#sk-container-id-1 div.sk-serial::before {content: \"\";position: absolute;border-left: 1px solid gray;box-sizing: border-box;top: 0;bottom: 0;left: 50%;z-index: 0;}#sk-container-id-1 div.sk-serial {display: flex;flex-direction: column;align-items: center;background-color: white;padding-right: 0.2em;padding-left: 0.2em;position: relative;}#sk-container-id-1 div.sk-item {position: relative;z-index: 1;}#sk-container-id-1 div.sk-parallel {display: flex;align-items: stretch;justify-content: center;background-color: white;position: relative;}#sk-container-id-1 div.sk-item::before, #sk-container-id-1 div.sk-parallel-item::before {content: \"\";position: absolute;border-left: 1px solid gray;box-sizing: border-box;top: 0;bottom: 0;left: 50%;z-index: -1;}#sk-container-id-1 div.sk-parallel-item {display: flex;flex-direction: column;z-index: 1;position: relative;background-color: white;}#sk-container-id-1 div.sk-parallel-item:first-child::after {align-self: flex-end;width: 50%;}#sk-container-id-1 div.sk-parallel-item:last-child::after {align-self: flex-start;width: 50%;}#sk-container-id-1 div.sk-parallel-item:only-child::after {width: 0;}#sk-container-id-1 div.sk-dashed-wrapped {border: 1px dashed gray;margin: 0 0.4em 0.5em 0.4em;box-sizing: border-box;padding-bottom: 0.4em;background-color: white;}#sk-container-id-1 div.sk-label label {font-family: monospace;font-weight: bold;display: inline-block;line-height: 1.2em;}#sk-container-id-1 div.sk-label-container {text-align: center;}#sk-container-id-1 div.sk-container {/* jupyter's `normalize.less` sets `[hidden] { display: none; }` but bootstrap.min.css set `[hidden] { display: none !important; }` so we also need the `!important` here to be able to override the default hidden behavior on the sphinx rendered scikit-learn.org. See: https://github.com/scikit-learn/scikit-learn/issues/21755 */display: inline-block !important;position: relative;}#sk-container-id-1 div.sk-text-repr-fallback {display: none;}</style><div id=\"sk-container-id-1\" class=\"sk-top-container\"><div class=\"sk-text-repr-fallback\"><pre>RandomForestRegressor(random_state=42)</pre><b>In a Jupyter environment, please rerun this cell to show the HTML representation or trust the notebook. <br />On GitHub, the HTML representation is unable to render, please try loading this page with nbviewer.org.</b></div><div class=\"sk-container\" hidden><div class=\"sk-item\"><div class=\"sk-estimator sk-toggleable\"><input class=\"sk-toggleable__control sk-hidden--visually\" id=\"sk-estimator-id-1\" type=\"checkbox\" checked><label for=\"sk-estimator-id-1\" class=\"sk-toggleable__label sk-toggleable__label-arrow\">RandomForestRegressor</label><div class=\"sk-toggleable__content\"><pre>RandomForestRegressor(random_state=42)</pre></div></div></div></div></div>"
            ],
            "text/plain": [
              "RandomForestRegressor(random_state=42)"
            ]
          },
          "execution_count": 24,
          "metadata": {},
          "output_type": "execute_result"
        }
      ],
      "source": [
        "from sklearn.ensemble import RandomForestRegressor\n",
        "# Training a Random Forest Regressor\n",
        "rf = RandomForestRegressor(random_state=42)\n",
        "rf.fit(X_train, y_train)"
      ]
    },
    {
      "cell_type": "code",
      "execution_count": 25,
      "metadata": {
        "colab": {
          "base_uri": "https://localhost:8080/"
        },
        "id": "t9HPWPRF4hz6",
        "outputId": "7aa940d7-88a6-4cc9-cc89-97d501e484b4"
      },
      "outputs": [
        {
          "data": {
            "text/plain": [
              "23.098097717762293"
            ]
          },
          "execution_count": 25,
          "metadata": {},
          "output_type": "execute_result"
        }
      ],
      "source": [
        "from sklearn.metrics import mean_squared_error\n",
        "# Predictions\n",
        "y_pred = rf.predict(X_test)\n",
        "\n",
        "# Evaluate the model\n",
        "rmse = np.sqrt(mean_squared_error(y_test, y_pred))\n",
        "rmse"
      ]
    },
    {
      "cell_type": "markdown",
      "metadata": {
        "id": "aPgOaV3BFEa6"
      },
      "source": [
        "## Using HistGradientBoostingRegressor Model"
      ]
    },
    {
      "cell_type": "code",
      "execution_count": 26,
      "metadata": {
        "colab": {
          "base_uri": "https://localhost:8080/"
        },
        "id": "Bd1MrDViCddi",
        "outputId": "cd7feb8d-c0d5-47df-b546-8aa5fa9990b3"
      },
      "outputs": [
        {
          "data": {
            "text/plain": [
              "15.786676057535963"
            ]
          },
          "execution_count": 26,
          "metadata": {},
          "output_type": "execute_result"
        }
      ],
      "source": [
        "from sklearn.ensemble import HistGradientBoostingRegressor\n",
        "# Instantiate the HistGradientBoostingRegressor model\n",
        "model = HistGradientBoostingRegressor()\n",
        "\n",
        "# Fit the model\n",
        "model.fit(X_train, y_train)\n",
        "\n",
        "# Evaluate the model\n",
        "y_predictions = model.predict(X_test)\n",
        "\n",
        "rmse_hgbr = np.sqrt(mean_squared_error(y_test, y_predictions))\n",
        "rmse_hgbr"
      ]
    },
    {
      "cell_type": "code",
      "execution_count": 27,
      "metadata": {
        "colab": {
          "base_uri": "https://localhost:8080/"
        },
        "id": "Ub5ba-lPFva5",
        "outputId": "5263ae43-5845-4eed-8605-6f6f35c4f29f"
      },
      "outputs": [
        {
          "name": "stdout",
          "output_type": "stream",
          "text": [
            "site_longitude: 0.5091597305912507\n",
            "site_latitude: 0.2956955403313885\n",
            "carbonmonoxide_co_column_number_density: 0.12170116332186913\n",
            "uvaerosolindex_solar_azimuth_angle: 0.057096626654953034\n",
            "ozone_o3_column_number_density: 0.04143621550688483\n",
            "carbonmonoxide_solar_azimuth_angle: 0.03251935096159177\n",
            "uvaerosolindex_absorbing_aerosol_index: 0.03210612534029594\n",
            "ozone_cloud_fraction: 0.031071915286406914\n",
            "ozone_solar_azimuth_angle: 0.029171429878232923\n"
          ]
        }
      ],
      "source": [
        "from sklearn.inspection import permutation_importance\n",
        "from sklearn.feature_selection import SelectFromModel\n",
        "from sklearn.ensemble import HistGradientBoostingRegressor\n",
        "\n",
        "# Calculate permutation feature importance\n",
        "perm_importance = permutation_importance(model, X_train, y_train, n_repeats=10, random_state=42)\n",
        "\n",
        "# Get feature importances\n",
        "importances = perm_importance.importances_mean\n",
        "\n",
        "# Get indices of features sorted by importance\n",
        "indices = importances.argsort()[::-1]\n",
        "# Get column names\n",
        "column_names = X.columns\n",
        "\n",
        "# The top 9 features\n",
        "top_n = 9\n",
        "top_features = indices[:top_n]\n",
        "\n",
        "for f in top_features:\n",
        "    print(f\"{column_names[f]}: {importances[f]}\")\n",
        "\n"
      ]
    },
    {
      "cell_type": "code",
      "execution_count": 28,
      "metadata": {
        "id": "PUuYquHnQADH"
      },
      "outputs": [],
      "source": [
        "# Select the top 9 features\n",
        "X_train_selected = X_train[:, top_features]\n",
        "X_test_selected = X_test[:, top_features]"
      ]
    },
    {
      "cell_type": "markdown",
      "metadata": {
        "id": "wdQ-uVIJPzWG"
      },
      "source": [
        "## Now we refit the model"
      ]
    },
    {
      "cell_type": "code",
      "execution_count": 29,
      "metadata": {
        "colab": {
          "base_uri": "https://localhost:8080/"
        },
        "id": "sX1phr8wMwOP",
        "outputId": "093f0c36-31fd-4bfc-a3db-32edfe6c2380"
      },
      "outputs": [
        {
          "data": {
            "text/plain": [
              "14.641876247834244"
            ]
          },
          "execution_count": 29,
          "metadata": {},
          "output_type": "execute_result"
        }
      ],
      "source": [
        "model.fit(X_train_selected, y_train)\n",
        "\n",
        "# Evaluate the model\n",
        "y_predictions = model.predict(X_test_selected)\n",
        "\n",
        "rmse_hgbr = np.sqrt(mean_squared_error(y_test, y_predictions))\n",
        "rmse_hgbr"
      ]
    },
    {
      "cell_type": "code",
      "execution_count": 30,
      "metadata": {
        "id": "NkI-HgXUODRq"
      },
      "outputs": [
        {
          "name": "stdout",
          "output_type": "stream",
          "text": [
            "Best parameters found:  {'l2_regularization': 0.0, 'learning_rate': 0.1, 'max_depth': 10, 'max_iter': 500, 'max_leaf_nodes': 31, 'min_samples_leaf': 20}\n"
          ]
        }
      ],
      "source": [
        "# Using GridSearch for hyperparameter tunning\n",
        "from sklearn.model_selection import GridSearchCV\n",
        "\n",
        "# Define the parameter grid\n",
        "param_grid = {\n",
        "    'learning_rate': [0.01, 0.05, 0.1, 0.2],\n",
        "    'max_iter': [100, 200, 300, 500],\n",
        "    'max_depth': [3, 5, 7, 10],\n",
        "    'min_samples_leaf': [10, 20, 50, 100],\n",
        "    'max_leaf_nodes': [10, 20, 31, 50],\n",
        "    'l2_regularization': [0.0, 0.1, 0.5, 1.0]\n",
        "}\n",
        "\n",
        "# Instantiate GridSearchCV\n",
        "grid_search = GridSearchCV(estimator=model, param_grid=param_grid, cv=5, scoring='neg_mean_squared_error', n_jobs=-1)\n",
        "\n",
        "# Fit GridSearchCV\n",
        "grid_search.fit(X_train_selected, y_train)\n",
        "\n",
        "# Best parameters\n",
        "print(\"Best parameters found: \", grid_search.best_params_)\n",
        "\n",
        "y_pred = grid_search.best_estimator_.predict(X_test_selected)\n",
        "\n",
        "# Calculate RMSE\n",
        "rmse = np.sqrt(mean_squared_error(y_test, y_pred))"
      ]
    },
    {
      "cell_type": "code",
      "execution_count": 31,
      "metadata": {
        "colab": {
          "base_uri": "https://localhost:8080/"
        },
        "id": "VDA8nCQZSXDC",
        "outputId": "b4cd00d5-57f5-4cf1-8f46-be956b6630b9"
      },
      "outputs": [
        {
          "data": {
            "text/plain": [
              "13.741944444493825"
            ]
          },
          "execution_count": 31,
          "metadata": {},
          "output_type": "execute_result"
        }
      ],
      "source": [
        "rmse"
      ]
    },
    {
      "cell_type": "code",
      "execution_count": 38,
      "metadata": {},
      "outputs": [],
      "source": [
        "features_used = column_names[top_features]"
      ]
    },
    {
      "cell_type": "markdown",
      "metadata": {},
      "source": [
        "### Use test_data for submissions"
      ]
    },
    {
      "cell_type": "code",
      "execution_count": 39,
      "metadata": {},
      "outputs": [
        {
          "data": {
            "text/html": [
              "<div>\n",
              "<style scoped>\n",
              "    .dataframe tbody tr th:only-of-type {\n",
              "        vertical-align: middle;\n",
              "    }\n",
              "\n",
              "    .dataframe tbody tr th {\n",
              "        vertical-align: top;\n",
              "    }\n",
              "\n",
              "    .dataframe thead th {\n",
              "        text-align: right;\n",
              "    }\n",
              "</style>\n",
              "<table border=\"1\" class=\"dataframe\">\n",
              "  <thead>\n",
              "    <tr style=\"text-align: right;\">\n",
              "      <th></th>\n",
              "      <th>site_longitude</th>\n",
              "      <th>site_latitude</th>\n",
              "      <th>carbonmonoxide_co_column_number_density</th>\n",
              "      <th>uvaerosolindex_solar_azimuth_angle</th>\n",
              "      <th>ozone_o3_column_number_density</th>\n",
              "      <th>carbonmonoxide_solar_azimuth_angle</th>\n",
              "      <th>uvaerosolindex_absorbing_aerosol_index</th>\n",
              "      <th>ozone_cloud_fraction</th>\n",
              "      <th>ozone_solar_azimuth_angle</th>\n",
              "    </tr>\n",
              "  </thead>\n",
              "  <tbody>\n",
              "    <tr>\n",
              "      <th>0</th>\n",
              "      <td>-0.22955</td>\n",
              "      <td>5.61252</td>\n",
              "      <td>0.043537</td>\n",
              "      <td>-86.879776</td>\n",
              "      <td>0.126056</td>\n",
              "      <td>-86.884308</td>\n",
              "      <td>-0.258422</td>\n",
              "      <td>0.079324</td>\n",
              "      <td>-86.879776</td>\n",
              "    </tr>\n",
              "    <tr>\n",
              "      <th>1</th>\n",
              "      <td>-0.22955</td>\n",
              "      <td>5.61252</td>\n",
              "      <td>0.036341</td>\n",
              "      <td>-87.726566</td>\n",
              "      <td>0.126282</td>\n",
              "      <td>-87.764297</td>\n",
              "      <td>-0.408162</td>\n",
              "      <td>0.613266</td>\n",
              "      <td>-87.726566</td>\n",
              "    </tr>\n",
              "    <tr>\n",
              "      <th>2</th>\n",
              "      <td>-0.22955</td>\n",
              "      <td>5.61252</td>\n",
              "      <td>0.037453</td>\n",
              "      <td>-89.089083</td>\n",
              "      <td>0.126162</td>\n",
              "      <td>-88.964294</td>\n",
              "      <td>-0.115169</td>\n",
              "      <td>0.164370</td>\n",
              "      <td>-89.089083</td>\n",
              "    </tr>\n",
              "    <tr>\n",
              "      <th>3</th>\n",
              "      <td>-0.22955</td>\n",
              "      <td>5.61252</td>\n",
              "      <td>NaN</td>\n",
              "      <td>-90.875526</td>\n",
              "      <td>0.121339</td>\n",
              "      <td>NaN</td>\n",
              "      <td>-1.116044</td>\n",
              "      <td>0.845910</td>\n",
              "      <td>-90.875526</td>\n",
              "    </tr>\n",
              "    <tr>\n",
              "      <th>4</th>\n",
              "      <td>-0.22955</td>\n",
              "      <td>5.61252</td>\n",
              "      <td>NaN</td>\n",
              "      <td>-111.396515</td>\n",
              "      <td>0.127799</td>\n",
              "      <td>NaN</td>\n",
              "      <td>-0.211314</td>\n",
              "      <td>0.000000</td>\n",
              "      <td>-111.396515</td>\n",
              "    </tr>\n",
              "  </tbody>\n",
              "</table>\n",
              "</div>"
            ],
            "text/plain": [
              "   site_longitude  site_latitude  carbonmonoxide_co_column_number_density  \\\n",
              "0        -0.22955        5.61252                                 0.043537   \n",
              "1        -0.22955        5.61252                                 0.036341   \n",
              "2        -0.22955        5.61252                                 0.037453   \n",
              "3        -0.22955        5.61252                                      NaN   \n",
              "4        -0.22955        5.61252                                      NaN   \n",
              "\n",
              "   uvaerosolindex_solar_azimuth_angle  ozone_o3_column_number_density  \\\n",
              "0                          -86.879776                        0.126056   \n",
              "1                          -87.726566                        0.126282   \n",
              "2                          -89.089083                        0.126162   \n",
              "3                          -90.875526                        0.121339   \n",
              "4                         -111.396515                        0.127799   \n",
              "\n",
              "   carbonmonoxide_solar_azimuth_angle  uvaerosolindex_absorbing_aerosol_index  \\\n",
              "0                          -86.884308                               -0.258422   \n",
              "1                          -87.764297                               -0.408162   \n",
              "2                          -88.964294                               -0.115169   \n",
              "3                                 NaN                               -1.116044   \n",
              "4                                 NaN                               -0.211314   \n",
              "\n",
              "   ozone_cloud_fraction  ozone_solar_azimuth_angle  \n",
              "0              0.079324                 -86.879776  \n",
              "1              0.613266                 -87.726566  \n",
              "2              0.164370                 -89.089083  \n",
              "3              0.845910                 -90.875526  \n",
              "4              0.000000                -111.396515  "
            ]
          },
          "execution_count": 39,
          "metadata": {},
          "output_type": "execute_result"
        }
      ],
      "source": [
        "test_data = test[features_used]\n",
        "test_data.head()"
      ]
    },
    {
      "cell_type": "code",
      "execution_count": 40,
      "metadata": {},
      "outputs": [
        {
          "data": {
            "text/plain": [
              "site_longitude                                0\n",
              "site_latitude                                 0\n",
              "carbonmonoxide_co_column_number_density    1031\n",
              "uvaerosolindex_solar_azimuth_angle            1\n",
              "ozone_o3_column_number_density               14\n",
              "carbonmonoxide_solar_azimuth_angle         1031\n",
              "uvaerosolindex_absorbing_aerosol_index        1\n",
              "ozone_cloud_fraction                         14\n",
              "ozone_solar_azimuth_angle                    14\n",
              "dtype: int64"
            ]
          },
          "execution_count": 40,
          "metadata": {},
          "output_type": "execute_result"
        }
      ],
      "source": [
        "test_data.isnull().sum()"
      ]
    },
    {
      "cell_type": "code",
      "execution_count": 41,
      "metadata": {},
      "outputs": [
        {
          "name": "stderr",
          "output_type": "stream",
          "text": [
            "C:\\Users\\USER\\AppData\\Local\\Temp\\ipykernel_8172\\335263117.py:5: SettingWithCopyWarning: \n",
            "A value is trying to be set on a copy of a slice from a DataFrame\n",
            "\n",
            "See the caveats in the documentation: https://pandas.pydata.org/pandas-docs/stable/user_guide/indexing.html#returning-a-view-versus-a-copy\n",
            "  test_data[col].fillna(col_mean, inplace=True)\n"
          ]
        }
      ],
      "source": [
        "# Fill missing values in numerical columns with their mean values\n",
        "numerical_columns = test_data.select_dtypes(include=['number']).columns\n",
        "for col in numerical_columns:\n",
        "    col_mean = test_data[col].mean()\n",
        "    test_data[col].fillna(col_mean, inplace=True)"
      ]
    },
    {
      "cell_type": "code",
      "execution_count": 42,
      "metadata": {},
      "outputs": [
        {
          "name": "stdout",
          "output_type": "stream",
          "text": [
            "<class 'pandas.core.frame.DataFrame'>\n",
            "RangeIndex: 2783 entries, 0 to 2782\n",
            "Data columns (total 9 columns):\n",
            " #   Column                                   Non-Null Count  Dtype  \n",
            "---  ------                                   --------------  -----  \n",
            " 0   site_longitude                           2783 non-null   float64\n",
            " 1   site_latitude                            2783 non-null   float64\n",
            " 2   carbonmonoxide_co_column_number_density  2783 non-null   float64\n",
            " 3   uvaerosolindex_solar_azimuth_angle       2783 non-null   float64\n",
            " 4   ozone_o3_column_number_density           2783 non-null   float64\n",
            " 5   carbonmonoxide_solar_azimuth_angle       2783 non-null   float64\n",
            " 6   uvaerosolindex_absorbing_aerosol_index   2783 non-null   float64\n",
            " 7   ozone_cloud_fraction                     2783 non-null   float64\n",
            " 8   ozone_solar_azimuth_angle                2783 non-null   float64\n",
            "dtypes: float64(9)\n",
            "memory usage: 195.8 KB\n"
          ]
        }
      ],
      "source": [
        "test_data.info()"
      ]
    },
    {
      "cell_type": "code",
      "execution_count": 46,
      "metadata": {},
      "outputs": [
        {
          "data": {
            "text/plain": [
              "0       id_ihxgrbq8bw\n",
              "1       id_dg6s4fhiwe\n",
              "2       id_f7hwwtmuzp\n",
              "3       id_ioese5awdg\n",
              "4       id_hdw320zpls\n",
              "            ...      \n",
              "2778    id_5yblexf7zp\n",
              "2779    id_c9cycuvetl\n",
              "2780    id_8xu1ardxni\n",
              "2781    id_aumy97t1iu\n",
              "2782    id_cv1dq53hzh\n",
              "Name: id, Length: 2783, dtype: object"
            ]
          },
          "execution_count": 46,
          "metadata": {},
          "output_type": "execute_result"
        }
      ],
      "source": [
        "airq_id = test['id']\n",
        "airq_id"
      ]
    },
    {
      "cell_type": "markdown",
      "metadata": {},
      "source": [
        "### Apply our model on test set"
      ]
    },
    {
      "cell_type": "code",
      "execution_count": 45,
      "metadata": {},
      "outputs": [
        {
          "name": "stderr",
          "output_type": "stream",
          "text": [
            "c:\\ProgramData\\anaconda3\\Lib\\site-packages\\sklearn\\base.py:457: UserWarning: X has feature names, but HistGradientBoostingRegressor was fitted without feature names\n",
            "  warnings.warn(\n",
            "C:\\Users\\USER\\AppData\\Local\\Temp\\ipykernel_8172\\1125302152.py:2: SettingWithCopyWarning: \n",
            "A value is trying to be set on a copy of a slice from a DataFrame.\n",
            "Try using .loc[row_indexer,col_indexer] = value instead\n",
            "\n",
            "See the caveats in the documentation: https://pandas.pydata.org/pandas-docs/stable/user_guide/indexing.html#returning-a-view-versus-a-copy\n",
            "  test_data['pm2_5'] = grid_search.best_estimator_.predict(test_data)\n"
          ]
        }
      ],
      "source": [
        "# add the predicted values to the test set\n",
        "test_data['pm2_5'] = grid_search.best_estimator_.predict(test_data)"
      ]
    },
    {
      "cell_type": "code",
      "execution_count": 47,
      "metadata": {},
      "outputs": [
        {
          "name": "stderr",
          "output_type": "stream",
          "text": [
            "C:\\Users\\USER\\AppData\\Local\\Temp\\ipykernel_8172\\2288325257.py:2: SettingWithCopyWarning: \n",
            "A value is trying to be set on a copy of a slice from a DataFrame.\n",
            "Try using .loc[row_indexer,col_indexer] = value instead\n",
            "\n",
            "See the caveats in the documentation: https://pandas.pydata.org/pandas-docs/stable/user_guide/indexing.html#returning-a-view-versus-a-copy\n",
            "  test_data['id'] = airq_id\n"
          ]
        },
        {
          "data": {
            "text/html": [
              "<div>\n",
              "<style scoped>\n",
              "    .dataframe tbody tr th:only-of-type {\n",
              "        vertical-align: middle;\n",
              "    }\n",
              "\n",
              "    .dataframe tbody tr th {\n",
              "        vertical-align: top;\n",
              "    }\n",
              "\n",
              "    .dataframe thead th {\n",
              "        text-align: right;\n",
              "    }\n",
              "</style>\n",
              "<table border=\"1\" class=\"dataframe\">\n",
              "  <thead>\n",
              "    <tr style=\"text-align: right;\">\n",
              "      <th></th>\n",
              "      <th>id</th>\n",
              "      <th>pm2_5</th>\n",
              "    </tr>\n",
              "  </thead>\n",
              "  <tbody>\n",
              "    <tr>\n",
              "      <th>0</th>\n",
              "      <td>id_ihxgrbq8bw</td>\n",
              "      <td>52.967946</td>\n",
              "    </tr>\n",
              "    <tr>\n",
              "      <th>1</th>\n",
              "      <td>id_dg6s4fhiwe</td>\n",
              "      <td>51.007813</td>\n",
              "    </tr>\n",
              "    <tr>\n",
              "      <th>2</th>\n",
              "      <td>id_f7hwwtmuzp</td>\n",
              "      <td>55.284892</td>\n",
              "    </tr>\n",
              "    <tr>\n",
              "      <th>3</th>\n",
              "      <td>id_ioese5awdg</td>\n",
              "      <td>59.076317</td>\n",
              "    </tr>\n",
              "    <tr>\n",
              "      <th>4</th>\n",
              "      <td>id_hdw320zpls</td>\n",
              "      <td>52.900919</td>\n",
              "    </tr>\n",
              "  </tbody>\n",
              "</table>\n",
              "</div>"
            ],
            "text/plain": [
              "              id      pm2_5\n",
              "0  id_ihxgrbq8bw  52.967946\n",
              "1  id_dg6s4fhiwe  51.007813\n",
              "2  id_f7hwwtmuzp  55.284892\n",
              "3  id_ioese5awdg  59.076317\n",
              "4  id_hdw320zpls  52.900919"
            ]
          },
          "execution_count": 47,
          "metadata": {},
          "output_type": "execute_result"
        }
      ],
      "source": [
        "# add the 'id' to the test set\n",
        "test_data['id'] = airq_id\n",
        "\n",
        "# select only the 'id' and predicted 'pm2_5', creating a new dataset\n",
        "load = test_data[['id','pm2_5']]\n",
        "load.to_csv('predicted_target.csv', index = False)\n",
        "load.head()"
      ]
    },
    {
      "cell_type": "code",
      "execution_count": null,
      "metadata": {},
      "outputs": [],
      "source": []
    }
  ],
  "metadata": {
    "colab": {
      "provenance": []
    },
    "kernelspec": {
      "display_name": "Python 3",
      "name": "python3"
    },
    "language_info": {
      "codemirror_mode": {
        "name": "ipython",
        "version": 3
      },
      "file_extension": ".py",
      "mimetype": "text/x-python",
      "name": "python",
      "nbconvert_exporter": "python",
      "pygments_lexer": "ipython3",
      "version": "3.11.5"
    }
  },
  "nbformat": 4,
  "nbformat_minor": 0
}
